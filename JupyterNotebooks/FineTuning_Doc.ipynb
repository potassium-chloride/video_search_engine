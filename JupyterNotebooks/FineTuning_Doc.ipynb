{
 "cells": [
  {
   "cell_type": "code",
   "execution_count": 159,
   "metadata": {},
   "outputs": [],
   "source": [
    "import pandas as pd\n",
    "import numpy as np\n",
    "from urllib.parse import unquote"
   ]
  },
  {
   "cell_type": "code",
   "execution_count": 176,
   "metadata": {},
   "outputs": [
    {
     "data": {
      "text/html": [
       "<div>\n",
       "<style scoped>\n",
       "    .dataframe tbody tr th:only-of-type {\n",
       "        vertical-align: middle;\n",
       "    }\n",
       "\n",
       "    .dataframe tbody tr th {\n",
       "        vertical-align: top;\n",
       "    }\n",
       "\n",
       "    .dataframe thead th {\n",
       "        text-align: right;\n",
       "    }\n",
       "</style>\n",
       "<table border=\"1\" class=\"dataframe\">\n",
       "  <thead>\n",
       "    <tr style=\"text-align: right;\">\n",
       "      <th></th>\n",
       "      <th>mark</th>\n",
       "      <th>query</th>\n",
       "      <th>url</th>\n",
       "      <th>q_enc</th>\n",
       "    </tr>\n",
       "  </thead>\n",
       "  <tbody>\n",
       "    <tr>\n",
       "      <th>0</th>\n",
       "      <td>+</td>\n",
       "      <td>%D0%BA%D0%B0%D0%BA%20%D0%BF%D1%80%D0%B0%D0%B2%...</td>\n",
       "      <td>https://cdn-st.rutubelist.ru/media/e3/71/7c152...</td>\n",
       "      <td>как правильно писать разлив или розлив</td>\n",
       "    </tr>\n",
       "    <tr>\n",
       "      <th>1</th>\n",
       "      <td>-</td>\n",
       "      <td>%D0%BA%D0%B0%D0%BA%20%D0%BF%D1%80%D0%B0%D0%B2%...</td>\n",
       "      <td>https://cdn-st.rutubelist.ru/media/0c/07/b0ae9...</td>\n",
       "      <td>как правильно писать разлив или розлив</td>\n",
       "    </tr>\n",
       "    <tr>\n",
       "      <th>2</th>\n",
       "      <td>-</td>\n",
       "      <td>%D0%BA%D0%B0%D0%BA%20%D0%BF%D1%80%D0%B0%D0%B2%...</td>\n",
       "      <td>https://cdn-st.rutubelist.ru/media/bc/6e/fd377...</td>\n",
       "      <td>как правильно писать разлив или розлив</td>\n",
       "    </tr>\n",
       "    <tr>\n",
       "      <th>3</th>\n",
       "      <td>+</td>\n",
       "      <td>%D0%BA%D0%B0%D0%BA%20%D0%BF%D1%80%D0%B0%D0%B2%...</td>\n",
       "      <td>https://cdn-st.rutubelist.ru/media/e3/71/7c152...</td>\n",
       "      <td>как правильно писать разлив или розлив</td>\n",
       "    </tr>\n",
       "    <tr>\n",
       "      <th>4</th>\n",
       "      <td>-</td>\n",
       "      <td>%D0%BA%D0%B0%D0%BA%20%D0%BF%D1%80%D0%B0%D0%B2%...</td>\n",
       "      <td>https://cdn-st.rutubelist.ru/media/bb/30/69e3c...</td>\n",
       "      <td>как правильно писать разлив или розлив</td>\n",
       "    </tr>\n",
       "    <tr>\n",
       "      <th>...</th>\n",
       "      <td>...</td>\n",
       "      <td>...</td>\n",
       "      <td>...</td>\n",
       "      <td>...</td>\n",
       "    </tr>\n",
       "    <tr>\n",
       "      <th>2606</th>\n",
       "      <td>+</td>\n",
       "      <td>%D1%81%D0%BE%D0%B2%D1%83%D1%88%D0%BA%D0%B8</td>\n",
       "      <td>https://cdn-st.rutubelist.ru/media/1a/01/6734c...</td>\n",
       "      <td>совушки</td>\n",
       "    </tr>\n",
       "    <tr>\n",
       "      <th>2607</th>\n",
       "      <td>-</td>\n",
       "      <td>%D1%81%D0%BE%D0%B2%D1%83%D1%88%D0%BA%D0%B8</td>\n",
       "      <td>https://cdn-st.rutubelist.ru/media/af/07/6b844...</td>\n",
       "      <td>совушки</td>\n",
       "    </tr>\n",
       "    <tr>\n",
       "      <th>2608</th>\n",
       "      <td>-</td>\n",
       "      <td>%D1%81%D0%BE%D0%B2%D1%83%D1%88%D0%BA%D0%B8</td>\n",
       "      <td>https://cdn-st.rutubelist.ru/media/f6/dc/4b764...</td>\n",
       "      <td>совушки</td>\n",
       "    </tr>\n",
       "    <tr>\n",
       "      <th>2609</th>\n",
       "      <td>+</td>\n",
       "      <td>%D0%BF%D0%BE%D0%BF%D1%83%D0%B3%D0%B0%D0%B9</td>\n",
       "      <td>https://cdn-st.rutubelist.ru/media/c3/df/c6a38...</td>\n",
       "      <td>попугай</td>\n",
       "    </tr>\n",
       "    <tr>\n",
       "      <th>2610</th>\n",
       "      <td>-</td>\n",
       "      <td>%D0%BF%D0%BE%D0%BF%D1%83%D0%B3%D0%B0%D0%B9</td>\n",
       "      <td>https://cdn-st.rutubelist.ru/media/36/e9/20079...</td>\n",
       "      <td>попугай</td>\n",
       "    </tr>\n",
       "  </tbody>\n",
       "</table>\n",
       "<p>2611 rows × 4 columns</p>\n",
       "</div>"
      ],
      "text/plain": [
       "     mark                                              query  \\\n",
       "0       +  %D0%BA%D0%B0%D0%BA%20%D0%BF%D1%80%D0%B0%D0%B2%...   \n",
       "1       -  %D0%BA%D0%B0%D0%BA%20%D0%BF%D1%80%D0%B0%D0%B2%...   \n",
       "2       -  %D0%BA%D0%B0%D0%BA%20%D0%BF%D1%80%D0%B0%D0%B2%...   \n",
       "3       +  %D0%BA%D0%B0%D0%BA%20%D0%BF%D1%80%D0%B0%D0%B2%...   \n",
       "4       -  %D0%BA%D0%B0%D0%BA%20%D0%BF%D1%80%D0%B0%D0%B2%...   \n",
       "...   ...                                                ...   \n",
       "2606    +         %D1%81%D0%BE%D0%B2%D1%83%D1%88%D0%BA%D0%B8   \n",
       "2607    -         %D1%81%D0%BE%D0%B2%D1%83%D1%88%D0%BA%D0%B8   \n",
       "2608    -         %D1%81%D0%BE%D0%B2%D1%83%D1%88%D0%BA%D0%B8   \n",
       "2609    +         %D0%BF%D0%BE%D0%BF%D1%83%D0%B3%D0%B0%D0%B9   \n",
       "2610    -         %D0%BF%D0%BE%D0%BF%D1%83%D0%B3%D0%B0%D0%B9   \n",
       "\n",
       "                                                    url  \\\n",
       "0     https://cdn-st.rutubelist.ru/media/e3/71/7c152...   \n",
       "1     https://cdn-st.rutubelist.ru/media/0c/07/b0ae9...   \n",
       "2     https://cdn-st.rutubelist.ru/media/bc/6e/fd377...   \n",
       "3     https://cdn-st.rutubelist.ru/media/e3/71/7c152...   \n",
       "4     https://cdn-st.rutubelist.ru/media/bb/30/69e3c...   \n",
       "...                                                 ...   \n",
       "2606  https://cdn-st.rutubelist.ru/media/1a/01/6734c...   \n",
       "2607  https://cdn-st.rutubelist.ru/media/af/07/6b844...   \n",
       "2608  https://cdn-st.rutubelist.ru/media/f6/dc/4b764...   \n",
       "2609  https://cdn-st.rutubelist.ru/media/c3/df/c6a38...   \n",
       "2610  https://cdn-st.rutubelist.ru/media/36/e9/20079...   \n",
       "\n",
       "                                       q_enc  \n",
       "0     как правильно писать разлив или розлив  \n",
       "1     как правильно писать разлив или розлив  \n",
       "2     как правильно писать разлив или розлив  \n",
       "3     как правильно писать разлив или розлив  \n",
       "4     как правильно писать разлив или розлив  \n",
       "...                                      ...  \n",
       "2606                                 совушки  \n",
       "2607                                 совушки  \n",
       "2608                                 совушки  \n",
       "2609                                 попугай  \n",
       "2610                                 попугай  \n",
       "\n",
       "[2611 rows x 4 columns]"
      ]
     },
     "execution_count": 176,
     "metadata": {},
     "output_type": "execute_result"
    }
   ],
   "source": [
    "df = pd.read_csv(\"search_alignment.csv\",sep=\";\")\n",
    "\n",
    "def safeUnquote(x):\n",
    "    try:\n",
    "        return unquote(x)\n",
    "    except Exception as e:\n",
    "        print(x,e)\n",
    "        return \"\"\n",
    "\n",
    "df['q_enc'] = df['query'].map(lambda x:safeUnquote(x))\n",
    "df"
   ]
  },
  {
   "cell_type": "code",
   "execution_count": 3,
   "metadata": {},
   "outputs": [
    {
     "data": {
      "text/html": [
       "<div>\n",
       "<style scoped>\n",
       "    .dataframe tbody tr th:only-of-type {\n",
       "        vertical-align: middle;\n",
       "    }\n",
       "\n",
       "    .dataframe tbody tr th {\n",
       "        vertical-align: top;\n",
       "    }\n",
       "\n",
       "    .dataframe thead th {\n",
       "        text-align: right;\n",
       "    }\n",
       "</style>\n",
       "<table border=\"1\" class=\"dataframe\">\n",
       "  <thead>\n",
       "    <tr style=\"text-align: right;\">\n",
       "      <th></th>\n",
       "      <th>mark</th>\n",
       "      <th>query</th>\n",
       "      <th>url</th>\n",
       "      <th>q_enc</th>\n",
       "    </tr>\n",
       "  </thead>\n",
       "  <tbody>\n",
       "  </tbody>\n",
       "</table>\n",
       "</div>"
      ],
      "text/plain": [
       "Empty DataFrame\n",
       "Columns: [mark, query, url, q_enc]\n",
       "Index: []"
      ]
     },
     "execution_count": 3,
     "metadata": {},
     "output_type": "execute_result"
    }
   ],
   "source": [
    "df[df['q_enc']=='']"
   ]
  },
  {
   "cell_type": "code",
   "execution_count": 161,
   "metadata": {},
   "outputs": [],
   "source": [
    "import requests,json\n",
    "\n",
    "text2vec_cache = {}\n",
    "\n",
    "def text2vec(text):\n",
    "    global text2vec_cache\n",
    "    if text in text2vec_cache:\n",
    "        return text2vec_cache[text]\n",
    "    res = requests.get(\"http://127.0.0.1:6000/clip_text_encode\",params=[(\"text\",text)])\n",
    "    res = json.loads(res.text)\n",
    "    text2vec_cache[text] = np.array(res[\"embedding\"])\n",
    "    return text2vec_cache[text]\n",
    "\n",
    "doc2vec_cache = {}\n",
    "\n",
    "def doc2vec(text):\n",
    "    global doc2vec_cache\n",
    "    if text in doc2vec_cache:\n",
    "        return doc2vec_cache[text]\n",
    "    res = requests.get(\"http://127.0.0.1:6000/doc2vec\",params=[(\"text\",text)])\n",
    "    res = json.loads(res.text)\n",
    "    res[\"embedding\"] = np.array(res[\"embedding\"])\n",
    "    doc2vec_cache[text] = res\n",
    "    return doc2vec_cache[text]"
   ]
  },
  {
   "cell_type": "code",
   "execution_count": 177,
   "metadata": {},
   "outputs": [
    {
     "data": {
      "text/html": [
       "<div>\n",
       "<style scoped>\n",
       "    .dataframe tbody tr th:only-of-type {\n",
       "        vertical-align: middle;\n",
       "    }\n",
       "\n",
       "    .dataframe tbody tr th {\n",
       "        vertical-align: top;\n",
       "    }\n",
       "\n",
       "    .dataframe thead th {\n",
       "        text-align: right;\n",
       "    }\n",
       "</style>\n",
       "<table border=\"1\" class=\"dataframe\">\n",
       "  <thead>\n",
       "    <tr style=\"text-align: right;\">\n",
       "      <th></th>\n",
       "      <th>mark</th>\n",
       "      <th>query</th>\n",
       "      <th>url</th>\n",
       "      <th>q_enc</th>\n",
       "      <th>clip_enc</th>\n",
       "    </tr>\n",
       "  </thead>\n",
       "  <tbody>\n",
       "    <tr>\n",
       "      <th>0</th>\n",
       "      <td>+</td>\n",
       "      <td>%D0%BA%D0%B0%D0%BA%20%D0%BF%D1%80%D0%B0%D0%B2%...</td>\n",
       "      <td>https://cdn-st.rutubelist.ru/media/e3/71/7c152...</td>\n",
       "      <td>как правильно писать разлив или розлив</td>\n",
       "      <td>[-0.0413382388651371, -0.07093463093042374, 0....</td>\n",
       "    </tr>\n",
       "    <tr>\n",
       "      <th>1</th>\n",
       "      <td>-</td>\n",
       "      <td>%D0%BA%D0%B0%D0%BA%20%D0%BF%D1%80%D0%B0%D0%B2%...</td>\n",
       "      <td>https://cdn-st.rutubelist.ru/media/0c/07/b0ae9...</td>\n",
       "      <td>как правильно писать разлив или розлив</td>\n",
       "      <td>[-0.0413382388651371, -0.07093463093042374, 0....</td>\n",
       "    </tr>\n",
       "    <tr>\n",
       "      <th>2</th>\n",
       "      <td>-</td>\n",
       "      <td>%D0%BA%D0%B0%D0%BA%20%D0%BF%D1%80%D0%B0%D0%B2%...</td>\n",
       "      <td>https://cdn-st.rutubelist.ru/media/bc/6e/fd377...</td>\n",
       "      <td>как правильно писать разлив или розлив</td>\n",
       "      <td>[-0.0413382388651371, -0.07093463093042374, 0....</td>\n",
       "    </tr>\n",
       "    <tr>\n",
       "      <th>3</th>\n",
       "      <td>+</td>\n",
       "      <td>%D0%BA%D0%B0%D0%BA%20%D0%BF%D1%80%D0%B0%D0%B2%...</td>\n",
       "      <td>https://cdn-st.rutubelist.ru/media/e3/71/7c152...</td>\n",
       "      <td>как правильно писать разлив или розлив</td>\n",
       "      <td>[-0.0413382388651371, -0.07093463093042374, 0....</td>\n",
       "    </tr>\n",
       "    <tr>\n",
       "      <th>4</th>\n",
       "      <td>-</td>\n",
       "      <td>%D0%BA%D0%B0%D0%BA%20%D0%BF%D1%80%D0%B0%D0%B2%...</td>\n",
       "      <td>https://cdn-st.rutubelist.ru/media/bb/30/69e3c...</td>\n",
       "      <td>как правильно писать разлив или розлив</td>\n",
       "      <td>[-0.0413382388651371, -0.07093463093042374, 0....</td>\n",
       "    </tr>\n",
       "  </tbody>\n",
       "</table>\n",
       "</div>"
      ],
      "text/plain": [
       "  mark                                              query  \\\n",
       "0    +  %D0%BA%D0%B0%D0%BA%20%D0%BF%D1%80%D0%B0%D0%B2%...   \n",
       "1    -  %D0%BA%D0%B0%D0%BA%20%D0%BF%D1%80%D0%B0%D0%B2%...   \n",
       "2    -  %D0%BA%D0%B0%D0%BA%20%D0%BF%D1%80%D0%B0%D0%B2%...   \n",
       "3    +  %D0%BA%D0%B0%D0%BA%20%D0%BF%D1%80%D0%B0%D0%B2%...   \n",
       "4    -  %D0%BA%D0%B0%D0%BA%20%D0%BF%D1%80%D0%B0%D0%B2%...   \n",
       "\n",
       "                                                 url  \\\n",
       "0  https://cdn-st.rutubelist.ru/media/e3/71/7c152...   \n",
       "1  https://cdn-st.rutubelist.ru/media/0c/07/b0ae9...   \n",
       "2  https://cdn-st.rutubelist.ru/media/bc/6e/fd377...   \n",
       "3  https://cdn-st.rutubelist.ru/media/e3/71/7c152...   \n",
       "4  https://cdn-st.rutubelist.ru/media/bb/30/69e3c...   \n",
       "\n",
       "                                    q_enc  \\\n",
       "0  как правильно писать разлив или розлив   \n",
       "1  как правильно писать разлив или розлив   \n",
       "2  как правильно писать разлив или розлив   \n",
       "3  как правильно писать разлив или розлив   \n",
       "4  как правильно писать разлив или розлив   \n",
       "\n",
       "                                            clip_enc  \n",
       "0  [-0.0413382388651371, -0.07093463093042374, 0....  \n",
       "1  [-0.0413382388651371, -0.07093463093042374, 0....  \n",
       "2  [-0.0413382388651371, -0.07093463093042374, 0....  \n",
       "3  [-0.0413382388651371, -0.07093463093042374, 0....  \n",
       "4  [-0.0413382388651371, -0.07093463093042374, 0....  "
      ]
     },
     "execution_count": 177,
     "metadata": {},
     "output_type": "execute_result"
    }
   ],
   "source": [
    "df['clip_enc'] = df['q_enc'].map(lambda x:text2vec(x.replace(\"#\",\"\")))\n",
    "df.head()"
   ]
  },
  {
   "cell_type": "code",
   "execution_count": 178,
   "metadata": {},
   "outputs": [
    {
     "name": "stdout",
     "output_type": "stream",
     "text": [
      "CPU times: user 43.9 ms, sys: 4.05 ms, total: 48 ms\n",
      "Wall time: 478 ms\n"
     ]
    },
    {
     "data": {
      "text/html": [
       "<div>\n",
       "<style scoped>\n",
       "    .dataframe tbody tr th:only-of-type {\n",
       "        vertical-align: middle;\n",
       "    }\n",
       "\n",
       "    .dataframe tbody tr th {\n",
       "        vertical-align: top;\n",
       "    }\n",
       "\n",
       "    .dataframe thead th {\n",
       "        text-align: right;\n",
       "    }\n",
       "</style>\n",
       "<table border=\"1\" class=\"dataframe\">\n",
       "  <thead>\n",
       "    <tr style=\"text-align: right;\">\n",
       "      <th></th>\n",
       "      <th>mark</th>\n",
       "      <th>query</th>\n",
       "      <th>url</th>\n",
       "      <th>q_enc</th>\n",
       "      <th>clip_enc</th>\n",
       "      <th>doc_enc</th>\n",
       "    </tr>\n",
       "  </thead>\n",
       "  <tbody>\n",
       "    <tr>\n",
       "      <th>0</th>\n",
       "      <td>+</td>\n",
       "      <td>%D0%BA%D0%B0%D0%BA%20%D0%BF%D1%80%D0%B0%D0%B2%...</td>\n",
       "      <td>https://cdn-st.rutubelist.ru/media/e3/71/7c152...</td>\n",
       "      <td>как правильно писать разлив или розлив</td>\n",
       "      <td>[-0.0413382388651371, -0.07093463093042374, 0....</td>\n",
       "      <td>{'embedding': [-0.006448028143495321, 0.020241...</td>\n",
       "    </tr>\n",
       "    <tr>\n",
       "      <th>1</th>\n",
       "      <td>-</td>\n",
       "      <td>%D0%BA%D0%B0%D0%BA%20%D0%BF%D1%80%D0%B0%D0%B2%...</td>\n",
       "      <td>https://cdn-st.rutubelist.ru/media/0c/07/b0ae9...</td>\n",
       "      <td>как правильно писать разлив или розлив</td>\n",
       "      <td>[-0.0413382388651371, -0.07093463093042374, 0....</td>\n",
       "      <td>{'embedding': [-0.006448028143495321, 0.020241...</td>\n",
       "    </tr>\n",
       "    <tr>\n",
       "      <th>2</th>\n",
       "      <td>-</td>\n",
       "      <td>%D0%BA%D0%B0%D0%BA%20%D0%BF%D1%80%D0%B0%D0%B2%...</td>\n",
       "      <td>https://cdn-st.rutubelist.ru/media/bc/6e/fd377...</td>\n",
       "      <td>как правильно писать разлив или розлив</td>\n",
       "      <td>[-0.0413382388651371, -0.07093463093042374, 0....</td>\n",
       "      <td>{'embedding': [-0.006448028143495321, 0.020241...</td>\n",
       "    </tr>\n",
       "    <tr>\n",
       "      <th>3</th>\n",
       "      <td>+</td>\n",
       "      <td>%D0%BA%D0%B0%D0%BA%20%D0%BF%D1%80%D0%B0%D0%B2%...</td>\n",
       "      <td>https://cdn-st.rutubelist.ru/media/e3/71/7c152...</td>\n",
       "      <td>как правильно писать разлив или розлив</td>\n",
       "      <td>[-0.0413382388651371, -0.07093463093042374, 0....</td>\n",
       "      <td>{'embedding': [-0.006448028143495321, 0.020241...</td>\n",
       "    </tr>\n",
       "    <tr>\n",
       "      <th>4</th>\n",
       "      <td>-</td>\n",
       "      <td>%D0%BA%D0%B0%D0%BA%20%D0%BF%D1%80%D0%B0%D0%B2%...</td>\n",
       "      <td>https://cdn-st.rutubelist.ru/media/bb/30/69e3c...</td>\n",
       "      <td>как правильно писать разлив или розлив</td>\n",
       "      <td>[-0.0413382388651371, -0.07093463093042374, 0....</td>\n",
       "      <td>{'embedding': [-0.006448028143495321, 0.020241...</td>\n",
       "    </tr>\n",
       "  </tbody>\n",
       "</table>\n",
       "</div>"
      ],
      "text/plain": [
       "  mark                                              query  \\\n",
       "0    +  %D0%BA%D0%B0%D0%BA%20%D0%BF%D1%80%D0%B0%D0%B2%...   \n",
       "1    -  %D0%BA%D0%B0%D0%BA%20%D0%BF%D1%80%D0%B0%D0%B2%...   \n",
       "2    -  %D0%BA%D0%B0%D0%BA%20%D0%BF%D1%80%D0%B0%D0%B2%...   \n",
       "3    +  %D0%BA%D0%B0%D0%BA%20%D0%BF%D1%80%D0%B0%D0%B2%...   \n",
       "4    -  %D0%BA%D0%B0%D0%BA%20%D0%BF%D1%80%D0%B0%D0%B2%...   \n",
       "\n",
       "                                                 url  \\\n",
       "0  https://cdn-st.rutubelist.ru/media/e3/71/7c152...   \n",
       "1  https://cdn-st.rutubelist.ru/media/0c/07/b0ae9...   \n",
       "2  https://cdn-st.rutubelist.ru/media/bc/6e/fd377...   \n",
       "3  https://cdn-st.rutubelist.ru/media/e3/71/7c152...   \n",
       "4  https://cdn-st.rutubelist.ru/media/bb/30/69e3c...   \n",
       "\n",
       "                                    q_enc  \\\n",
       "0  как правильно писать разлив или розлив   \n",
       "1  как правильно писать разлив или розлив   \n",
       "2  как правильно писать разлив или розлив   \n",
       "3  как правильно писать разлив или розлив   \n",
       "4  как правильно писать разлив или розлив   \n",
       "\n",
       "                                            clip_enc  \\\n",
       "0  [-0.0413382388651371, -0.07093463093042374, 0....   \n",
       "1  [-0.0413382388651371, -0.07093463093042374, 0....   \n",
       "2  [-0.0413382388651371, -0.07093463093042374, 0....   \n",
       "3  [-0.0413382388651371, -0.07093463093042374, 0....   \n",
       "4  [-0.0413382388651371, -0.07093463093042374, 0....   \n",
       "\n",
       "                                             doc_enc  \n",
       "0  {'embedding': [-0.006448028143495321, 0.020241...  \n",
       "1  {'embedding': [-0.006448028143495321, 0.020241...  \n",
       "2  {'embedding': [-0.006448028143495321, 0.020241...  \n",
       "3  {'embedding': [-0.006448028143495321, 0.020241...  \n",
       "4  {'embedding': [-0.006448028143495321, 0.020241...  "
      ]
     },
     "execution_count": 178,
     "metadata": {},
     "output_type": "execute_result"
    }
   ],
   "source": [
    "%%time\n",
    "df['doc_enc'] = df['q_enc'].map(lambda x:doc2vec(x.replace(\"#\",\"\")))\n",
    "df.head()"
   ]
  },
  {
   "cell_type": "code",
   "execution_count": 6,
   "metadata": {},
   "outputs": [
    {
     "data": {
      "text/plain": [
       "'как правильно писать разлив или розлив'"
      ]
     },
     "execution_count": 6,
     "metadata": {},
     "output_type": "execute_result"
    }
   ],
   "source": [
    "df['q_enc'][0]"
   ]
  },
  {
   "cell_type": "code",
   "execution_count": 163,
   "metadata": {},
   "outputs": [
    {
     "name": "stdout",
     "output_type": "stream",
     "text": [
      "10421\n"
     ]
    }
   ],
   "source": [
    "import pickle\n",
    "\n",
    "with open(\"dict_store_new.pkl\",\"rb\") as fl:\n",
    "    indexedVideos = pickle.load(fl)\n",
    "\n",
    "print(len(indexedVideos))"
   ]
  },
  {
   "cell_type": "code",
   "execution_count": 164,
   "metadata": {},
   "outputs": [
    {
     "data": {
      "text/plain": [
       "2.60525"
      ]
     },
     "execution_count": 164,
     "metadata": {},
     "output_type": "execute_result"
    }
   ],
   "source": [
    "len(indexedVideos)/400000 * 100"
   ]
  },
  {
   "cell_type": "code",
   "execution_count": 165,
   "metadata": {},
   "outputs": [],
   "source": [
    "def preprocessVideoForQuery(url,query):\n",
    "    # 1) Find url\n",
    "    iVideo = None\n",
    "    for o in indexedVideos:\n",
    "        if o['url']!=url:continue\n",
    "        iVideo = o\n",
    "        break\n",
    "    if iVideo is None:\n",
    "        print(url,\"has not indexed yet\")\n",
    "        return\n",
    "    # 2) Preprocess query\n",
    "    clip_emb = text2vec(query.replace(\"#\",\"\"))\n",
    "    doc_enc = doc2vec(query)\n",
    "    doc_emb = doc_enc['embedding']\n",
    "    doc_lemmed = set(doc_enc['lemmed'] if 'lemmed' in doc_enc else [])\n",
    "    doc_words = set(query.replace(\",\",\"\").lower().split(\" \"))\n",
    "    # 3) Feature extracting\n",
    "    features = []\n",
    "    clip_innerprod = iVideo['clip_embeddings'].dot(clip_emb)\n",
    "    features.append(clip_innerprod.min())\n",
    "    features.append(clip_innerprod.mean())\n",
    "    features.append(clip_innerprod.max())\n",
    "    features.append(clip_innerprod.std())\n",
    "    doc_innerprod = iVideo['description_embedding'].dot(doc_emb)\n",
    "    features.append(doc_innerprod)\n",
    "    doc_innerprod2 = iVideo['transcription_embedding'].dot(doc_emb)\n",
    "    features.append(doc_innerprod2)\n",
    "    features.append(max(features))\n",
    "    # 3.2) Words calculating\n",
    "    description_words = set(iVideo['description'].lower().split(\" \"))\n",
    "    description_words_comp = len(description_words & doc_words) / max(len(doc_words),1)\n",
    "    features.append(description_words_comp)\n",
    "    transcription_words = set(iVideo['transcription'].split(\" \"))\n",
    "    transcription_words_comp = len(transcription_words & doc_words) / max(len(doc_words),1)\n",
    "    features.append(transcription_words_comp)\n",
    "    transcription_words2 = set(iVideo['transcription_lemmed'])\n",
    "    transcription_words_comp2 = len(transcription_words2 & doc_lemmed) / max(len(doc_lemmed),1)\n",
    "    features.append(transcription_words_comp2)\n",
    "    features.append(max(features))\n",
    "    return features"
   ]
  },
  {
   "cell_type": "code",
   "execution_count": 166,
   "metadata": {},
   "outputs": [
    {
     "name": "stdout",
     "output_type": "stream",
     "text": [
      "CPU times: user 5.91 ms, sys: 82 µs, total: 5.99 ms\n",
      "Wall time: 52.1 ms\n"
     ]
    },
    {
     "data": {
      "text/plain": [
       "[0.2172265966395708,\n",
       " 0.29435148639561737,\n",
       " 0.3811079639044104,\n",
       " 0.054979991143736036,\n",
       " 0.5510368442600055,\n",
       " 0.6062659757908622,\n",
       " 0.6062659757908622,\n",
       " 0.2,\n",
       " 0.8,\n",
       " 0.8,\n",
       " 0.8]"
      ]
     },
     "execution_count": 166,
     "metadata": {},
     "output_type": "execute_result"
    }
   ],
   "source": [
    "%%time\n",
    "preprocessVideoForQuery('https://cdn-st.rutubelist.ru/media/ee/80/29098d1e4b93ad7f025cbe1b7fe7/fhd.mp4',\n",
    "                        'как резать стекло под водой')"
   ]
  },
  {
   "cell_type": "code",
   "execution_count": 179,
   "metadata": {},
   "outputs": [
    {
     "name": "stdout",
     "output_type": "stream",
     "text": [
      "CPU times: user 1.12 s, sys: 3.17 ms, total: 1.12 s\n",
      "Wall time: 1.12 s\n"
     ]
    }
   ],
   "source": [
    "%%time\n",
    "y_goal = []\n",
    "\n",
    "for url,query in zip(df['url'],df['q_enc']):\n",
    "    y_goal.append(preprocessVideoForQuery(url,query))"
   ]
  },
  {
   "cell_type": "code",
   "execution_count": 180,
   "metadata": {},
   "outputs": [
    {
     "data": {
      "text/plain": [
       "2611"
      ]
     },
     "execution_count": 180,
     "metadata": {},
     "output_type": "execute_result"
    }
   ],
   "source": [
    "len(y_goal)"
   ]
  },
  {
   "cell_type": "code",
   "execution_count": 181,
   "metadata": {},
   "outputs": [
    {
     "data": {
      "text/html": [
       "<div>\n",
       "<style scoped>\n",
       "    .dataframe tbody tr th:only-of-type {\n",
       "        vertical-align: middle;\n",
       "    }\n",
       "\n",
       "    .dataframe tbody tr th {\n",
       "        vertical-align: top;\n",
       "    }\n",
       "\n",
       "    .dataframe thead th {\n",
       "        text-align: right;\n",
       "    }\n",
       "</style>\n",
       "<table border=\"1\" class=\"dataframe\">\n",
       "  <thead>\n",
       "    <tr style=\"text-align: right;\">\n",
       "      <th></th>\n",
       "      <th>mark</th>\n",
       "      <th>query</th>\n",
       "      <th>url</th>\n",
       "      <th>q_enc</th>\n",
       "      <th>clip_enc</th>\n",
       "      <th>doc_enc</th>\n",
       "      <th>sign</th>\n",
       "    </tr>\n",
       "  </thead>\n",
       "  <tbody>\n",
       "    <tr>\n",
       "      <th>0</th>\n",
       "      <td>+</td>\n",
       "      <td>%D0%BA%D0%B0%D0%BA%20%D0%BF%D1%80%D0%B0%D0%B2%...</td>\n",
       "      <td>https://cdn-st.rutubelist.ru/media/e3/71/7c152...</td>\n",
       "      <td>как правильно писать разлив или розлив</td>\n",
       "      <td>[-0.0413382388651371, -0.07093463093042374, 0....</td>\n",
       "      <td>{'embedding': [-0.006448028143495321, 0.020241...</td>\n",
       "      <td>-1</td>\n",
       "    </tr>\n",
       "    <tr>\n",
       "      <th>1</th>\n",
       "      <td>-</td>\n",
       "      <td>%D0%BA%D0%B0%D0%BA%20%D0%BF%D1%80%D0%B0%D0%B2%...</td>\n",
       "      <td>https://cdn-st.rutubelist.ru/media/0c/07/b0ae9...</td>\n",
       "      <td>как правильно писать разлив или розлив</td>\n",
       "      <td>[-0.0413382388651371, -0.07093463093042374, 0....</td>\n",
       "      <td>{'embedding': [-0.006448028143495321, 0.020241...</td>\n",
       "      <td>1</td>\n",
       "    </tr>\n",
       "    <tr>\n",
       "      <th>2</th>\n",
       "      <td>-</td>\n",
       "      <td>%D0%BA%D0%B0%D0%BA%20%D0%BF%D1%80%D0%B0%D0%B2%...</td>\n",
       "      <td>https://cdn-st.rutubelist.ru/media/bc/6e/fd377...</td>\n",
       "      <td>как правильно писать разлив или розлив</td>\n",
       "      <td>[-0.0413382388651371, -0.07093463093042374, 0....</td>\n",
       "      <td>{'embedding': [-0.006448028143495321, 0.020241...</td>\n",
       "      <td>1</td>\n",
       "    </tr>\n",
       "    <tr>\n",
       "      <th>3</th>\n",
       "      <td>+</td>\n",
       "      <td>%D0%BA%D0%B0%D0%BA%20%D0%BF%D1%80%D0%B0%D0%B2%...</td>\n",
       "      <td>https://cdn-st.rutubelist.ru/media/e3/71/7c152...</td>\n",
       "      <td>как правильно писать разлив или розлив</td>\n",
       "      <td>[-0.0413382388651371, -0.07093463093042374, 0....</td>\n",
       "      <td>{'embedding': [-0.006448028143495321, 0.020241...</td>\n",
       "      <td>-1</td>\n",
       "    </tr>\n",
       "    <tr>\n",
       "      <th>4</th>\n",
       "      <td>-</td>\n",
       "      <td>%D0%BA%D0%B0%D0%BA%20%D0%BF%D1%80%D0%B0%D0%B2%...</td>\n",
       "      <td>https://cdn-st.rutubelist.ru/media/bb/30/69e3c...</td>\n",
       "      <td>как правильно писать разлив или розлив</td>\n",
       "      <td>[-0.0413382388651371, -0.07093463093042374, 0....</td>\n",
       "      <td>{'embedding': [-0.006448028143495321, 0.020241...</td>\n",
       "      <td>1</td>\n",
       "    </tr>\n",
       "  </tbody>\n",
       "</table>\n",
       "</div>"
      ],
      "text/plain": [
       "  mark                                              query  \\\n",
       "0    +  %D0%BA%D0%B0%D0%BA%20%D0%BF%D1%80%D0%B0%D0%B2%...   \n",
       "1    -  %D0%BA%D0%B0%D0%BA%20%D0%BF%D1%80%D0%B0%D0%B2%...   \n",
       "2    -  %D0%BA%D0%B0%D0%BA%20%D0%BF%D1%80%D0%B0%D0%B2%...   \n",
       "3    +  %D0%BA%D0%B0%D0%BA%20%D0%BF%D1%80%D0%B0%D0%B2%...   \n",
       "4    -  %D0%BA%D0%B0%D0%BA%20%D0%BF%D1%80%D0%B0%D0%B2%...   \n",
       "\n",
       "                                                 url  \\\n",
       "0  https://cdn-st.rutubelist.ru/media/e3/71/7c152...   \n",
       "1  https://cdn-st.rutubelist.ru/media/0c/07/b0ae9...   \n",
       "2  https://cdn-st.rutubelist.ru/media/bc/6e/fd377...   \n",
       "3  https://cdn-st.rutubelist.ru/media/e3/71/7c152...   \n",
       "4  https://cdn-st.rutubelist.ru/media/bb/30/69e3c...   \n",
       "\n",
       "                                    q_enc  \\\n",
       "0  как правильно писать разлив или розлив   \n",
       "1  как правильно писать разлив или розлив   \n",
       "2  как правильно писать разлив или розлив   \n",
       "3  как правильно писать разлив или розлив   \n",
       "4  как правильно писать разлив или розлив   \n",
       "\n",
       "                                            clip_enc  \\\n",
       "0  [-0.0413382388651371, -0.07093463093042374, 0....   \n",
       "1  [-0.0413382388651371, -0.07093463093042374, 0....   \n",
       "2  [-0.0413382388651371, -0.07093463093042374, 0....   \n",
       "3  [-0.0413382388651371, -0.07093463093042374, 0....   \n",
       "4  [-0.0413382388651371, -0.07093463093042374, 0....   \n",
       "\n",
       "                                             doc_enc  sign  \n",
       "0  {'embedding': [-0.006448028143495321, 0.020241...    -1  \n",
       "1  {'embedding': [-0.006448028143495321, 0.020241...     1  \n",
       "2  {'embedding': [-0.006448028143495321, 0.020241...     1  \n",
       "3  {'embedding': [-0.006448028143495321, 0.020241...    -1  \n",
       "4  {'embedding': [-0.006448028143495321, 0.020241...     1  "
      ]
     },
     "execution_count": 181,
     "metadata": {},
     "output_type": "execute_result"
    }
   ],
   "source": [
    "df['sign'] = df['mark'].map(lambda x:int(x=='-')-int(x=='+'))\n",
    "df.head()"
   ]
  },
  {
   "cell_type": "code",
   "execution_count": 182,
   "metadata": {},
   "outputs": [
    {
     "data": {
      "text/plain": [
       "array([[-0.00644803,  0.02024133, -0.04367693, ..., -0.03022208,\n",
       "        -0.03108507,  0.01216101],\n",
       "       [-0.00644803,  0.02024133, -0.04367693, ..., -0.03022208,\n",
       "        -0.03108507,  0.01216101],\n",
       "       [-0.00644803,  0.02024133, -0.04367693, ..., -0.03022208,\n",
       "        -0.03108507,  0.01216101],\n",
       "       ...,\n",
       "       [-0.01661295, -0.01339296,  0.00359414, ...,  0.00339168,\n",
       "        -0.01771467, -0.03118717],\n",
       "       [-0.0081185 ,  0.01650092,  0.02428489, ...,  0.03120786,\n",
       "        -0.00725997, -0.0343472 ],\n",
       "       [-0.0081185 ,  0.01650092,  0.02428489, ...,  0.03120786,\n",
       "        -0.00725997, -0.0343472 ]])"
      ]
     },
     "execution_count": 182,
     "metadata": {},
     "output_type": "execute_result"
    }
   ],
   "source": [
    "doc_enc_all = np.zeros((len(df),768))\n",
    "\n",
    "for i,enc in enumerate(df['doc_enc']):\n",
    "    doc_enc_all[i] = enc['embedding']\n",
    "\n",
    "doc_enc_all"
   ]
  },
  {
   "cell_type": "code",
   "execution_count": 204,
   "metadata": {},
   "outputs": [
    {
     "data": {
      "text/plain": [
       "PCA(copy=True, iterated_power='auto', n_components=5, random_state=None,\n",
       "    svd_solver='auto', tol=0.0, whiten=False)"
      ]
     },
     "execution_count": 204,
     "metadata": {},
     "output_type": "execute_result"
    }
   ],
   "source": [
    "from sklearn.decomposition import PCA\n",
    "\n",
    "pca = PCA(n_components=5)\n",
    "pca.fit(doc_enc_all)"
   ]
  },
  {
   "cell_type": "code",
   "execution_count": 16,
   "metadata": {},
   "outputs": [],
   "source": [
    "import torch\n",
    "import torch.nn as nn"
   ]
  },
  {
   "cell_type": "code",
   "execution_count": 205,
   "metadata": {},
   "outputs": [],
   "source": [
    "Tdoc_enc_all = torch.Tensor(pca.transform(doc_enc_all))\n",
    "Ty_goal = torch.Tensor(y_goal)\n",
    "Tsign = torch.Tensor(df['sign'])"
   ]
  },
  {
   "cell_type": "code",
   "execution_count": 206,
   "metadata": {},
   "outputs": [
    {
     "data": {
      "text/plain": [
       "(torch.Size([2611, 5]), torch.Size([2611, 11]), torch.Size([2611]))"
      ]
     },
     "execution_count": 206,
     "metadata": {},
     "output_type": "execute_result"
    }
   ],
   "source": [
    "Tdoc_enc_all.shape,Ty_goal.shape,Tsign.shape"
   ]
  },
  {
   "cell_type": "code",
   "execution_count": 207,
   "metadata": {},
   "outputs": [],
   "source": [
    "model = nn.Sequential(\n",
    "    nn.Linear(Tdoc_enc_all.shape[1],Ty_goal.shape[1]),\n",
    "    nn.Dropout(p=0.2),\n",
    "    nn.Sigmoid() # -> (0,1) important!\n",
    ")\n",
    "\n",
    "opt = torch.optim.Adam(model.parameters(),lr=1e-3,weight_decay=1e-3)"
   ]
  },
  {
   "cell_type": "code",
   "execution_count": 98,
   "metadata": {},
   "outputs": [
    {
     "data": {
      "text/plain": [
       "0.7283667621776504"
      ]
     },
     "execution_count": 98,
     "metadata": {},
     "output_type": "execute_result"
    }
   ],
   "source": [
    "def calcAccuracy(weighted_sum,Tsign):\n",
    "    queries = list(set(df['q_enc']))\n",
    "    np_ws = weighted_sum.detach().numpy().sum(axis=1)\n",
    "    np_signs = Tsign.numpy()\n",
    "    all_signs = 0\n",
    "    correct_signs = 0\n",
    "    for q in queries[2:]:\n",
    "        inds = (df['q_enc']==q).to_numpy()\n",
    "        np_ws_q = np_ws[inds]\n",
    "        np_signs_q = np_signs[inds]\n",
    "        stack = np.vstack((np_ws_q,np_signs_q)).T\n",
    "        stack = stack[stack[:, 0].argsort()]\n",
    "        plus_count = (stack[:,1]>0).sum()\n",
    "        minus_count = (stack[:,1]<0).sum()\n",
    "        correct_pluses = sum(stack[:plus_count,1]>0)\n",
    "        correct_minuses = sum(stack[-minus_count:,1]<0)\n",
    "        all_signs += plus_count+minus_count\n",
    "        correct_signs += correct_pluses+correct_minuses\n",
    "        # print(q,correct_pluses+correct_minuses,plus_count+minus_count)\n",
    "    return correct_signs/all_signs\n",
    "\n",
    "#calcAccuracy(weighted_sum,Tsign)"
   ]
  },
  {
   "cell_type": "code",
   "execution_count": 208,
   "metadata": {},
   "outputs": [
    {
     "name": "stdout",
     "output_type": "stream",
     "text": [
      "0 Loss: -12.01698112487793 Acc: 0.6304849884526559\n",
      "2000 Loss: -63.401573181152344 Acc: 0.7120862201693611\n",
      "4000 Loss: -75.6671371459961 Acc: 0.7190146266358738\n",
      "6000 Loss: -77.36099243164062 Acc: 0.7151655119322555\n",
      "8000 Loss: -81.32086181640625 Acc: 0.7328714395688991\n",
      "10000 Loss: -86.56305694580078 Acc: 0.7190146266358738\n"
     ]
    }
   ],
   "source": [
    "history = []\n",
    "\n",
    "for epoch in range(10001):\n",
    "    opt.zero_grad()\n",
    "    m_coefs = model(Tdoc_enc_all)\n",
    "    m_coefs = nn.functional.normalize(m_coefs, p=1)\n",
    "    weighted_sum = m_coefs*Ty_goal\n",
    "    weighted_sum.shape\n",
    "    loss = (weighted_sum.sum(axis=1)*Tsign).sum()\n",
    "    loss.backward()\n",
    "    opt.step()\n",
    "    if(epoch%2000==0):\n",
    "        print(epoch,\"Loss:\",loss.item(),\"Acc:\",calcAccuracy(weighted_sum,Tsign) )\n",
    "    history.append(loss.item())"
   ]
  },
  {
   "cell_type": "code",
   "execution_count": 209,
   "metadata": {},
   "outputs": [
    {
     "data": {
      "text/plain": [
       "[<matplotlib.lines.Line2D at 0x7fdd3270b090>]"
      ]
     },
     "execution_count": 209,
     "metadata": {},
     "output_type": "execute_result"
    },
    {
     "data": {
      "image/png": "[encoded data removed]",
      "text/plain": [
       "<Figure size 432x288 with 1 Axes>"
      ]
     },
     "metadata": {
      "needs_background": "light"
     },
     "output_type": "display_data"
    }
   ],
   "source": [
    "import matplotlib.pyplot as plt\n",
    "\n",
    "plt.plot(history)"
   ]
  },
  {
   "cell_type": "code",
   "execution_count": 131,
   "metadata": {},
   "outputs": [],
   "source": [
    "def getCoefsByPrompt(query):\n",
    "    if type(query)==str:\n",
    "        query = doc2vec(query)['embedding']\n",
    "    model.eval()\n",
    "    enc = pca.transform(query.reshape(1,-1))\n",
    "    with torch.no_grad():\n",
    "        enc = torch.Tensor(enc)\n",
    "        coefs = model(enc)\n",
    "        return coefs.numpy()[0]"
   ]
  },
  {
   "cell_type": "code",
   "execution_count": 151,
   "metadata": {},
   "outputs": [],
   "source": [
    "def keyMatching(arr):\n",
    "    features = []\n",
    "    features.append(\"clip_innerprod.min()   \")\n",
    "    features.append(\"clip_innerprod.mean()  \")\n",
    "    features.append(\"clip_innerprod.max()   \")\n",
    "    features.append(\"clip_innerprod.std()   \")\n",
    "    features.append(\"descr_innerprod        \")\n",
    "    features.append(\"trans_innerprod        \")\n",
    "    features.append(\"max(features)          \")\n",
    "    # 3.2) Words calculating\n",
    "    features.append(\"descr_words_comp       \")\n",
    "    features.append(\"trans_words_comp       \")\n",
    "    features.append(\"trans_lemmed_words_comp\")\n",
    "    features.append(\"max(features)          \")\n",
    "    norm = max(arr)\n",
    "    for k,v in zip(features,arr):\n",
    "        print(k,round(v,5),'*'*round(v/norm*50),sep='\\t')"
   ]
  },
  {
   "cell_type": "code",
   "execution_count": 189,
   "metadata": {},
   "outputs": [
    {
     "name": "stdout",
     "output_type": "stream",
     "text": [
      "clip_innerprod.min()   \t0.84569\t******************************************\n",
      "clip_innerprod.mean()  \t0.96045\t************************************************\n",
      "clip_innerprod.max()   \t0.99893\t**************************************************\n",
      "clip_innerprod.std()   \t0.01174\t*\n",
      "descr_innerprod        \t0.01594\t*\n",
      "trans_innerprod        \t0.00384\t\n",
      "max(features)          \t0.11612\t******\n",
      "descr_words_comp       \t0.00036\t\n",
      "trans_words_comp       \t0.02986\t*\n",
      "trans_lemmed_words_comp\t0.03626\t**\n",
      "max(features)          \t0.04905\t**\n"
     ]
    }
   ],
   "source": [
    "keyMatching(getCoefsByPrompt(\"котики\"))"
   ]
  },
  {
   "cell_type": "code",
   "execution_count": 190,
   "metadata": {},
   "outputs": [
    {
     "name": "stdout",
     "output_type": "stream",
     "text": [
      "clip_innerprod.min()   \t0.00028\t\n",
      "clip_innerprod.mean()  \t0.04101\t**\n",
      "clip_innerprod.max()   \t0.8878\t********************************************\n",
      "clip_innerprod.std()   \t0.0002\t\n",
      "descr_innerprod        \t0.03163\t**\n",
      "trans_innerprod        \t0.0051\t\n",
      "max(features)          \t0.00646\t\n",
      "descr_words_comp       \t0.01556\t*\n",
      "trans_words_comp       \t0.84947\t*******************************************\n",
      "trans_lemmed_words_comp\t0.92528\t**********************************************\n",
      "max(features)          \t0.9991\t**************************************************\n"
     ]
    }
   ],
   "source": [
    "keyMatching(getCoefsByPrompt(\"геншин импакт\"))"
   ]
  },
  {
   "cell_type": "code",
   "execution_count": 191,
   "metadata": {},
   "outputs": [
    {
     "name": "stdout",
     "output_type": "stream",
     "text": [
      "clip_innerprod.min()   \t0.78135\t***************************************\n",
      "clip_innerprod.mean()  \t0.04142\t**\n",
      "clip_innerprod.max()   \t0.00481\t\n",
      "clip_innerprod.std()   \t0.98814\t**************************************************\n",
      "descr_innerprod        \t1e-05\t\n",
      "trans_innerprod        \t0.00536\t\n",
      "max(features)          \t0.00034\t\n",
      "descr_words_comp       \t0.99329\t**************************************************\n",
      "trans_words_comp       \t0.01877\t*\n",
      "trans_lemmed_words_comp\t0.07243\t****\n",
      "max(features)          \t0.01805\t*\n"
     ]
    }
   ],
   "source": [
    "keyMatching(getCoefsByPrompt(\"как правильно розлив или разлив\"))"
   ]
  },
  {
   "cell_type": "code",
   "execution_count": 258,
   "metadata": {},
   "outputs": [
    {
     "data": {
      "text/plain": [
       "((768, 4), (768,))"
      ]
     },
     "execution_count": 258,
     "metadata": {},
     "output_type": "execute_result"
    }
   ],
   "source": [
    "mu = np.mean(doc_enc_all, axis=0)\n",
    "pca_M = pca.components_.T\n",
    "pca_M.shape,mu.shape"
   ]
  },
  {
   "cell_type": "code",
   "execution_count": 259,
   "metadata": {},
   "outputs": [
    {
     "data": {
      "text/plain": [
       "array([[-0.35536303,  0.13516976, -0.2220154 ,  0.11829696],\n",
       "       [-0.35536303,  0.13516976, -0.2220154 ,  0.11829696],\n",
       "       [-0.35536303,  0.13516976, -0.2220154 ,  0.11829696],\n",
       "       ...,\n",
       "       [-0.16711572, -0.06676016,  0.20230792,  0.12821883],\n",
       "       [-0.16711572, -0.06676016,  0.20230792,  0.12821883],\n",
       "       [-0.16711572, -0.06676016,  0.20230792,  0.12821883]])"
      ]
     },
     "execution_count": 259,
     "metadata": {},
     "output_type": "execute_result"
    }
   ],
   "source": [
    "(doc_enc_all-mu).dot(pca_M)"
   ]
  },
  {
   "cell_type": "code",
   "execution_count": 261,
   "metadata": {},
   "outputs": [
    {
     "data": {
      "text/plain": [
       "tensor([[0.0030, 0.0056, 0.0335,  ..., 0.7584, 0.9657, 0.1550],\n",
       "        [0.0030, 0.0056, 0.0335,  ..., 0.7584, 0.9657, 0.1550],\n",
       "        [0.0030, 0.0056, 0.0335,  ..., 0.7584, 0.9657, 0.1550],\n",
       "        ...,\n",
       "        [0.0032, 0.0023, 0.3393,  ..., 0.2133, 0.7533, 0.3901],\n",
       "        [0.0032, 0.0023, 0.3393,  ..., 0.2133, 0.7533, 0.3901],\n",
       "        [0.0032, 0.0023, 0.3393,  ..., 0.2133, 0.7533, 0.3901]])"
      ]
     },
     "execution_count": 261,
     "metadata": {},
     "output_type": "execute_result"
    }
   ],
   "source": [
    "with torch.no_grad():\n",
    "    coefs=model(Tdoc_enc_all)\n",
    "coefs"
   ]
  },
  {
   "cell_type": "code",
   "execution_count": 262,
   "metadata": {},
   "outputs": [
    {
     "data": {
      "text/plain": [
       "tensor([[0.0030, 0.0056, 0.0335,  ..., 0.7584, 0.9657, 0.1550],\n",
       "        [0.0030, 0.0056, 0.0335,  ..., 0.7584, 0.9657, 0.1550],\n",
       "        [0.0030, 0.0056, 0.0335,  ..., 0.7584, 0.9657, 0.1550],\n",
       "        ...,\n",
       "        [0.0032, 0.0023, 0.3393,  ..., 0.2133, 0.7533, 0.3901],\n",
       "        [0.0032, 0.0023, 0.3393,  ..., 0.2133, 0.7533, 0.3901],\n",
       "        [0.0032, 0.0023, 0.3393,  ..., 0.2133, 0.7533, 0.3901]])"
      ]
     },
     "execution_count": 262,
     "metadata": {},
     "output_type": "execute_result"
    }
   ],
   "source": [
    "tmp = torch.Tensor((doc_enc_all-mu).dot(pca_M))\n",
    "\n",
    "with torch.no_grad():\n",
    "    coefs=model(Tdoc_enc_all)\n",
    "coefs"
   ]
  },
  {
   "cell_type": "code",
   "execution_count": 212,
   "metadata": {},
   "outputs": [],
   "source": [
    "model_M = model[0].weight.detach().numpy().T\n",
    "model_bias = model[0].bias.detach().numpy()"
   ]
  },
  {
   "cell_type": "code",
   "execution_count": 217,
   "metadata": {},
   "outputs": [
    {
     "name": "stdout",
     "output_type": "stream",
     "text": [
      "clip_innerprod.min()   \t1.87253\t********************************\n",
      "clip_innerprod.mean()  \t1.47721\t*************************\n",
      "clip_innerprod.max()   \t0.37389\t******\n",
      "clip_innerprod.std()   \t2.94255\t**************************************************\n",
      "descr_innerprod        \t0.06637\t*\n",
      "trans_innerprod        \t0.17866\t***\n",
      "max(features)          \t2.06948\t***********************************\n",
      "descr_words_comp       \t0.08834\t**\n",
      "trans_words_comp       \t2.19153\t*************************************\n",
      "trans_lemmed_words_comp\t1.01162\t*****************\n",
      "max(features)          \t0.60602\t**********\n"
     ]
    }
   ],
   "source": [
    "keyMatching(abs(model_M).min(axis=0))"
   ]
  },
  {
   "cell_type": "code",
   "execution_count": 218,
   "metadata": {},
   "outputs": [
    {
     "name": "stdout",
     "output_type": "stream",
     "text": [
      "clip_innerprod.min()   \t0.76848\t*******\n",
      "clip_innerprod.mean()  \t2.10393\t*******************\n",
      "clip_innerprod.max()   \t3.34938\t******************************\n",
      "clip_innerprod.std()   \t4.3458\t**************************************\n",
      "descr_innerprod        \t5.67159\t**************************************************\n",
      "trans_innerprod        \t5.21857\t**********************************************\n",
      "max(features)          \t1.89866\t*****************\n",
      "descr_words_comp       \t4.15871\t*************************************\n",
      "trans_words_comp       \t4.21986\t*************************************\n",
      "trans_lemmed_words_comp\t3.94763\t***********************************\n",
      "max(features)          \t2.01809\t******************\n"
     ]
    }
   ],
   "source": [
    "keyMatching(abs(model_bias))"
   ]
  },
  {
   "cell_type": "code",
   "execution_count": 211,
   "metadata": {},
   "outputs": [],
   "source": [
    "mu = np.mean(doc_enc_all, axis=0)\n",
    "pca_M = pca.components_.T\n",
    "np.savetxt(\"pca_M_doc.dat\",pca_M)\n",
    "np.savetxt(\"pca_mu_doc.dat\",mu)\n",
    "torch.save(model.state_dict(), 'sorter_model_doc.pt')"
   ]
  },
  {
   "cell_type": "code",
   "execution_count": 201,
   "metadata": {},
   "outputs": [],
   "source": [
    "def getCoefsByPrompt2(query):\n",
    "    if type(query)==str:\n",
    "        query = doc2vec(query)['embedding']\n",
    "    model.eval()\n",
    "    enc = (query.reshape(1,-1)-mu).dot(pca_M)\n",
    "    with torch.no_grad():\n",
    "        enc = torch.Tensor(enc)\n",
    "        coefs = model(enc)\n",
    "        return coefs.numpy()"
   ]
  },
  {
   "cell_type": "code",
   "execution_count": 205,
   "metadata": {},
   "outputs": [
    {
     "data": {
      "text/plain": [
       "array([0.77780327, 0.9283202 , 0.80451702, 0.77780327, 0.74828601,\n",
       "       0.10407396, 0.25520212, 0.0794793 , 0.30081886, 0.08738758,\n",
       "       0.27968014, 0.27163592, 0.26963775, 0.18371564, 0.35529533,\n",
       "       0.66629343, 0.33412409, 0.54452943, 0.29326892, 0.44877496,\n",
       "       0.11596184, 0.8811167 , 0.52860373, 0.30975817, 0.45003739,\n",
       "       1.24092837, 0.68761115, 0.83067366, 0.61763885, 0.8760674 ,\n",
       "       0.38183149, 0.42232442, 0.33342094, 0.50428677, 0.08041946,\n",
       "       0.07552595, 0.16221854, 0.32680722, 0.37595989, 0.29154928,\n",
       "       0.08215082, 0.24997351, 0.60100443, 1.06365715, 0.63657507,\n",
       "       0.29549721, 0.12016483, 0.2349798 , 0.23934745, 0.10583497,\n",
       "       0.33248856, 0.10159993, 0.08452804, 0.99207541, 1.28296793,\n",
       "       0.69213864, 1.43904787, 0.78367172, 1.0098728 , 0.81381062,\n",
       "       1.1242044 , 0.82152751, 0.81252528, 1.46424221, 0.18629866,\n",
       "       0.10490976, 0.64495061, 0.10505264, 0.65109962, 0.09479678,\n",
       "       1.26839489, 0.27776538, 0.34831648, 0.35561542, 0.09613723,\n",
       "       0.44196475, 0.26551346, 0.07687837, 0.11824432, 0.11590466,\n",
       "       0.1056384 , 0.10413571, 0.11508618, 0.22497541, 0.14319417,\n",
       "       0.14045693, 0.21364354, 0.55857142, 0.11877568, 1.36780308,\n",
       "       0.36565448, 0.31718483, 0.17408598, 0.33855202, 1.28022559,\n",
       "       0.57417229, 0.53037646, 0.98504706, 1.46424221, 0.77094096,\n",
       "       0.8106129 , 0.6206857 , 1.44655129, 0.15154236, 0.09221658,\n",
       "       0.08115397, 0.16347317, 0.08932988, 0.10372737, 0.28591612,\n",
       "       0.21663833, 0.12219437, 0.11921142, 0.12353745, 0.08927032,\n",
       "       0.34208302, 0.41932831, 0.09509018, 0.09766274, 0.09052929,\n",
       "       0.12452985, 0.10723659, 0.10560276, 0.67211267, 0.07845023,\n",
       "       1.07294388, 0.09069146, 0.32117767, 0.1219674 , 0.81534791,\n",
       "       0.81534791, 0.1219674 , 0.10776066, 0.08301255, 0.09460117,\n",
       "       0.87577771, 0.09107945, 0.55521004, 0.69912028, 0.44046877,\n",
       "       0.46512711, 0.44458753, 0.41123208, 0.41857821, 0.545998  ,\n",
       "       0.36730433, 0.35687304, 0.43866728, 0.38835753, 1.26295693,\n",
       "       0.47211904, 0.45082799, 0.41160531, 1.33014508, 0.26030429,\n",
       "       0.76445407, 0.59589213, 0.83382731, 0.63939821, 0.80579151,\n",
       "       0.52444662, 0.76607227, 0.50317997, 0.14900858, 0.11777952,\n",
       "       0.57871558, 0.52530318, 0.52530318, 0.52530318, 0.12709274,\n",
       "       0.10578077, 0.15155261, 0.17589885, 0.15147939, 0.52530318,\n",
       "       0.22892585, 0.52530318, 0.52530318, 0.07024316, 0.06921374,\n",
       "       0.57969536, 0.59589449, 0.90847886, 0.92851617, 0.92851617,\n",
       "       0.84964502, 0.86339475, 0.84358426, 0.86422239, 0.87453587,\n",
       "       0.86227674, 1.47226865, 1.357199  , 0.4213358 , 0.43638831,\n",
       "       0.43240617, 0.44223637, 0.96251913, 0.95468636, 0.97381639,\n",
       "       0.60917344, 0.90814315, 0.61979588, 0.96251913, 0.27213968,\n",
       "       0.32828172, 0.39169123, 0.37651881, 0.34833843, 0.36767807,\n",
       "       0.343943  , 0.35246006, 0.89957609, 0.48953   , 0.54908239,\n",
       "       0.76139379, 1.01992654, 1.09909694, 0.87246794, 0.4129805 ,\n",
       "       0.11226799, 0.41593938, 0.47441144, 0.92960646, 0.56827667,\n",
       "       0.43526816, 0.42726024, 0.53370678, 0.42821815, 0.4380305 ,\n",
       "       0.4483539 , 0.10114714, 0.32697256, 0.10407396, 0.16669787,\n",
       "       0.08756779, 1.29312883, 0.08112182, 0.55052954, 0.37344509,\n",
       "       0.37166666, 0.12021645, 0.09668446, 0.26715254, 0.24111466,\n",
       "       0.25939241, 0.08886113, 0.24149014, 0.16377228, 0.20202662,\n",
       "       0.23502487, 0.1062993 , 0.10893207, 0.12087215, 0.38384014,\n",
       "       0.0961591 , 0.10080244, 0.11780692, 0.52532202, 0.10967165,\n",
       "       1.50292888, 0.63466203, 0.50229613, 0.09782516, 0.09245909,\n",
       "       0.09158274, 0.24236269, 0.20364307, 0.24947571, 0.0914344 ,\n",
       "       0.09117687, 0.84122552, 0.95355159, 0.84122552, 0.6045174 ,\n",
       "       0.75412348, 0.6475824 , 0.25019665, 0.23222414, 0.09261473,\n",
       "       0.27870924, 0.52819177, 0.65151275, 0.65151275, 0.52819177,\n",
       "       0.48951193, 0.51347009, 0.65151275, 0.52819177, 0.56742771,\n",
       "       0.58174841, 0.77978435, 0.56742771, 0.58174841, 0.52230902,\n",
       "       0.51012244, 0.53141734, 0.5175672 , 0.70206882, 0.69255829,\n",
       "       0.4637215 , 1.36101386, 0.38305827, 0.66547191, 1.18801012,\n",
       "       0.58495985, 0.31211302, 0.19900855, 0.11146053, 0.25993303,\n",
       "       0.15177722, 0.28396174, 0.39137459, 0.35823671, 0.31474157,\n",
       "       0.09624689, 0.3877124 , 0.08946506, 0.6411755 , 0.60535051,\n",
       "       0.44193145, 0.43891896, 0.40595487, 0.49541178, 0.51596433,\n",
       "       0.49204577, 0.48514877, 0.37931061, 0.14978233, 0.10799364,\n",
       "       0.32299838, 0.11873133, 0.41374309, 0.11363737, 0.32585594,\n",
       "       0.35487971, 0.74414077, 0.34770015, 0.13509159, 0.36559031,\n",
       "       0.13092693, 0.70418072, 0.7584701 , 0.76966449, 1.56521506,\n",
       "       0.5213398 , 0.5496424 , 0.9468372 , 0.69740179, 1.77561476,\n",
       "       0.919777  , 0.09944267, 0.1016847 , 0.11148991, 0.44983171,\n",
       "       0.1381586 , 0.10138541, 0.09184727, 0.38250037, 0.10046285,\n",
       "       0.34844292, 0.09511567, 0.30320044, 0.09176609, 0.13944019,\n",
       "       0.13941066, 0.11127913, 0.11756914, 0.66638904, 0.19192654,\n",
       "       0.10278954, 0.10221587, 0.5592255 , 0.09408591, 0.23783459,\n",
       "       0.07662172, 0.09422909, 0.11389448, 0.18887259, 0.07886428,\n",
       "       0.21610221, 0.32980156, 0.07638318, 0.24196091, 0.07434789,\n",
       "       0.10696243, 0.12287769, 0.09998819, 0.08864433, 0.10644807,\n",
       "       0.10016072, 0.2080722 , 0.2208004 , 0.08832234, 0.21288326,\n",
       "       0.10364165, 0.2070786 , 0.13670327, 0.35426889, 0.10387646,\n",
       "       0.28444453, 0.28416724, 0.12784713, 0.09116212])"
      ]
     },
     "execution_count": 205,
     "metadata": {},
     "output_type": "execute_result"
    }
   ],
   "source": [
    "np.array(y_goal).dot(getCoefsByPrompt(\"котики\")[0])"
   ]
  },
  {
   "cell_type": "code",
   "execution_count": 206,
   "metadata": {},
   "outputs": [
    {
     "data": {
      "text/plain": [
       "(30, 11)"
      ]
     },
     "execution_count": 206,
     "metadata": {},
     "output_type": "execute_result"
    }
   ],
   "source": [
    "Tdoc_enc_all.shape[1],Ty_goal.shape[1]"
   ]
  },
  {
   "cell_type": "code",
   "execution_count": null,
   "metadata": {},
   "outputs": [],
   "source": []
  }
 ],
 "metadata": {
  "kernelspec": {
   "display_name": "Python 3",
   "language": "python",
   "name": "python3"
  },
  "language_info": {
   "codemirror_mode": {
    "name": "ipython",
    "version": 3
   },
   "file_extension": ".py",
   "mimetype": "text/x-python",
   "name": "python",
   "nbconvert_exporter": "python",
   "pygments_lexer": "ipython3",
   "version": "3.7.6"
  }
 },
 "nbformat": 4,
 "nbformat_minor": 4
}
