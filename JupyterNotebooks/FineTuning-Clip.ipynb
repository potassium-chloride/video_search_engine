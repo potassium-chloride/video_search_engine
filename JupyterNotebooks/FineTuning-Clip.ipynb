{
 "cells": [
  {
   "cell_type": "code",
   "execution_count": 1,
   "metadata": {},
   "outputs": [],
   "source": [
    "import pandas as pd\n",
    "import numpy as np\n",
    "from urllib.parse import unquote"
   ]
  },
  {
   "cell_type": "code",
   "execution_count": 48,
   "metadata": {},
   "outputs": [
    {
     "data": {
      "text/html": [
       "<div>\n",
       "<style scoped>\n",
       "    .dataframe tbody tr th:only-of-type {\n",
       "        vertical-align: middle;\n",
       "    }\n",
       "\n",
       "    .dataframe tbody tr th {\n",
       "        vertical-align: top;\n",
       "    }\n",
       "\n",
       "    .dataframe thead th {\n",
       "        text-align: right;\n",
       "    }\n",
       "</style>\n",
       "<table border=\"1\" class=\"dataframe\">\n",
       "  <thead>\n",
       "    <tr style=\"text-align: right;\">\n",
       "      <th></th>\n",
       "      <th>mark</th>\n",
       "      <th>query</th>\n",
       "      <th>url</th>\n",
       "      <th>q_enc</th>\n",
       "    </tr>\n",
       "  </thead>\n",
       "  <tbody>\n",
       "    <tr>\n",
       "      <th>0</th>\n",
       "      <td>+</td>\n",
       "      <td>%D0%BA%D0%B0%D0%BA%20%D0%BF%D1%80%D0%B0%D0%B2%...</td>\n",
       "      <td>https://cdn-st.rutubelist.ru/media/e3/71/7c152...</td>\n",
       "      <td>как правильно писать разлив или розлив</td>\n",
       "    </tr>\n",
       "    <tr>\n",
       "      <th>1</th>\n",
       "      <td>-</td>\n",
       "      <td>%D0%BA%D0%B0%D0%BA%20%D0%BF%D1%80%D0%B0%D0%B2%...</td>\n",
       "      <td>https://cdn-st.rutubelist.ru/media/0c/07/b0ae9...</td>\n",
       "      <td>как правильно писать разлив или розлив</td>\n",
       "    </tr>\n",
       "    <tr>\n",
       "      <th>2</th>\n",
       "      <td>-</td>\n",
       "      <td>%D0%BA%D0%B0%D0%BA%20%D0%BF%D1%80%D0%B0%D0%B2%...</td>\n",
       "      <td>https://cdn-st.rutubelist.ru/media/bc/6e/fd377...</td>\n",
       "      <td>как правильно писать разлив или розлив</td>\n",
       "    </tr>\n",
       "    <tr>\n",
       "      <th>3</th>\n",
       "      <td>+</td>\n",
       "      <td>%D0%BA%D0%B0%D0%BA%20%D0%BF%D1%80%D0%B0%D0%B2%...</td>\n",
       "      <td>https://cdn-st.rutubelist.ru/media/e3/71/7c152...</td>\n",
       "      <td>как правильно писать разлив или розлив</td>\n",
       "    </tr>\n",
       "    <tr>\n",
       "      <th>4</th>\n",
       "      <td>-</td>\n",
       "      <td>%D0%BA%D0%B0%D0%BA%20%D0%BF%D1%80%D0%B0%D0%B2%...</td>\n",
       "      <td>https://cdn-st.rutubelist.ru/media/bb/30/69e3c...</td>\n",
       "      <td>как правильно писать разлив или розлив</td>\n",
       "    </tr>\n",
       "  </tbody>\n",
       "</table>\n",
       "</div>"
      ],
      "text/plain": [
       "  mark                                              query  \\\n",
       "0    +  %D0%BA%D0%B0%D0%BA%20%D0%BF%D1%80%D0%B0%D0%B2%...   \n",
       "1    -  %D0%BA%D0%B0%D0%BA%20%D0%BF%D1%80%D0%B0%D0%B2%...   \n",
       "2    -  %D0%BA%D0%B0%D0%BA%20%D0%BF%D1%80%D0%B0%D0%B2%...   \n",
       "3    +  %D0%BA%D0%B0%D0%BA%20%D0%BF%D1%80%D0%B0%D0%B2%...   \n",
       "4    -  %D0%BA%D0%B0%D0%BA%20%D0%BF%D1%80%D0%B0%D0%B2%...   \n",
       "\n",
       "                                                 url  \\\n",
       "0  https://cdn-st.rutubelist.ru/media/e3/71/7c152...   \n",
       "1  https://cdn-st.rutubelist.ru/media/0c/07/b0ae9...   \n",
       "2  https://cdn-st.rutubelist.ru/media/bc/6e/fd377...   \n",
       "3  https://cdn-st.rutubelist.ru/media/e3/71/7c152...   \n",
       "4  https://cdn-st.rutubelist.ru/media/bb/30/69e3c...   \n",
       "\n",
       "                                    q_enc  \n",
       "0  как правильно писать разлив или розлив  \n",
       "1  как правильно писать разлив или розлив  \n",
       "2  как правильно писать разлив или розлив  \n",
       "3  как правильно писать разлив или розлив  \n",
       "4  как правильно писать разлив или розлив  "
      ]
     },
     "execution_count": 48,
     "metadata": {},
     "output_type": "execute_result"
    }
   ],
   "source": [
    "df = pd.read_csv(\"search_alignment.csv\",sep=\";\")\n",
    "\n",
    "def safeUnquote(x):\n",
    "    try:\n",
    "        return unquote(x)\n",
    "    except Exception as e:\n",
    "        print(x,e)\n",
    "        return \"\"\n",
    "\n",
    "df['q_enc'] = df['query'].map(lambda x:safeUnquote(x))\n",
    "df.head()"
   ]
  },
  {
   "cell_type": "code",
   "execution_count": 3,
   "metadata": {},
   "outputs": [
    {
     "data": {
      "text/html": [
       "<div>\n",
       "<style scoped>\n",
       "    .dataframe tbody tr th:only-of-type {\n",
       "        vertical-align: middle;\n",
       "    }\n",
       "\n",
       "    .dataframe tbody tr th {\n",
       "        vertical-align: top;\n",
       "    }\n",
       "\n",
       "    .dataframe thead th {\n",
       "        text-align: right;\n",
       "    }\n",
       "</style>\n",
       "<table border=\"1\" class=\"dataframe\">\n",
       "  <thead>\n",
       "    <tr style=\"text-align: right;\">\n",
       "      <th></th>\n",
       "      <th>mark</th>\n",
       "      <th>query</th>\n",
       "      <th>url</th>\n",
       "      <th>q_enc</th>\n",
       "    </tr>\n",
       "  </thead>\n",
       "  <tbody>\n",
       "  </tbody>\n",
       "</table>\n",
       "</div>"
      ],
      "text/plain": [
       "Empty DataFrame\n",
       "Columns: [mark, query, url, q_enc]\n",
       "Index: []"
      ]
     },
     "execution_count": 3,
     "metadata": {},
     "output_type": "execute_result"
    }
   ],
   "source": [
    "df[df['q_enc']=='']"
   ]
  },
  {
   "cell_type": "code",
   "execution_count": 4,
   "metadata": {},
   "outputs": [],
   "source": [
    "import requests,json\n",
    "\n",
    "text2vec_cache = {}\n",
    "\n",
    "def text2vec(text):\n",
    "    global text2vec_cache\n",
    "    if text in text2vec_cache:\n",
    "        return text2vec_cache[text]\n",
    "    res = requests.get(\"http://127.0.0.1:6000/clip_text_encode\",params=[(\"text\",text)])\n",
    "    res = json.loads(res.text)\n",
    "    text2vec_cache[text] = np.array(res[\"embedding\"])\n",
    "    return text2vec_cache[text]\n",
    "\n",
    "doc2vec_cache = {}\n",
    "\n",
    "def doc2vec(text):\n",
    "    global doc2vec_cache\n",
    "    if text in doc2vec_cache:\n",
    "        return doc2vec_cache[text]\n",
    "    res = requests.get(\"http://127.0.0.1:6000/doc2vec\",params=[(\"text\",text)])\n",
    "    res = json.loads(res.text)\n",
    "    res[\"embedding\"] = np.array(res[\"embedding\"])\n",
    "    doc2vec_cache[text] = res\n",
    "    return doc2vec_cache[text]"
   ]
  },
  {
   "cell_type": "code",
   "execution_count": 49,
   "metadata": {},
   "outputs": [
    {
     "name": "stdout",
     "output_type": "stream",
     "text": [
      "CPU times: user 304 ms, sys: 11.5 ms, total: 315 ms\n",
      "Wall time: 33.7 s\n"
     ]
    },
    {
     "data": {
      "text/html": [
       "<div>\n",
       "<style scoped>\n",
       "    .dataframe tbody tr th:only-of-type {\n",
       "        vertical-align: middle;\n",
       "    }\n",
       "\n",
       "    .dataframe tbody tr th {\n",
       "        vertical-align: top;\n",
       "    }\n",
       "\n",
       "    .dataframe thead th {\n",
       "        text-align: right;\n",
       "    }\n",
       "</style>\n",
       "<table border=\"1\" class=\"dataframe\">\n",
       "  <thead>\n",
       "    <tr style=\"text-align: right;\">\n",
       "      <th></th>\n",
       "      <th>mark</th>\n",
       "      <th>query</th>\n",
       "      <th>url</th>\n",
       "      <th>q_enc</th>\n",
       "      <th>clip_enc</th>\n",
       "    </tr>\n",
       "  </thead>\n",
       "  <tbody>\n",
       "    <tr>\n",
       "      <th>0</th>\n",
       "      <td>+</td>\n",
       "      <td>%D0%BA%D0%B0%D0%BA%20%D0%BF%D1%80%D0%B0%D0%B2%...</td>\n",
       "      <td>https://cdn-st.rutubelist.ru/media/e3/71/7c152...</td>\n",
       "      <td>как правильно писать разлив или розлив</td>\n",
       "      <td>[-0.0413382388651371, -0.07093463093042374, 0....</td>\n",
       "    </tr>\n",
       "    <tr>\n",
       "      <th>1</th>\n",
       "      <td>-</td>\n",
       "      <td>%D0%BA%D0%B0%D0%BA%20%D0%BF%D1%80%D0%B0%D0%B2%...</td>\n",
       "      <td>https://cdn-st.rutubelist.ru/media/0c/07/b0ae9...</td>\n",
       "      <td>как правильно писать разлив или розлив</td>\n",
       "      <td>[-0.0413382388651371, -0.07093463093042374, 0....</td>\n",
       "    </tr>\n",
       "    <tr>\n",
       "      <th>2</th>\n",
       "      <td>-</td>\n",
       "      <td>%D0%BA%D0%B0%D0%BA%20%D0%BF%D1%80%D0%B0%D0%B2%...</td>\n",
       "      <td>https://cdn-st.rutubelist.ru/media/bc/6e/fd377...</td>\n",
       "      <td>как правильно писать разлив или розлив</td>\n",
       "      <td>[-0.0413382388651371, -0.07093463093042374, 0....</td>\n",
       "    </tr>\n",
       "    <tr>\n",
       "      <th>3</th>\n",
       "      <td>+</td>\n",
       "      <td>%D0%BA%D0%B0%D0%BA%20%D0%BF%D1%80%D0%B0%D0%B2%...</td>\n",
       "      <td>https://cdn-st.rutubelist.ru/media/e3/71/7c152...</td>\n",
       "      <td>как правильно писать разлив или розлив</td>\n",
       "      <td>[-0.0413382388651371, -0.07093463093042374, 0....</td>\n",
       "    </tr>\n",
       "    <tr>\n",
       "      <th>4</th>\n",
       "      <td>-</td>\n",
       "      <td>%D0%BA%D0%B0%D0%BA%20%D0%BF%D1%80%D0%B0%D0%B2%...</td>\n",
       "      <td>https://cdn-st.rutubelist.ru/media/bb/30/69e3c...</td>\n",
       "      <td>как правильно писать разлив или розлив</td>\n",
       "      <td>[-0.0413382388651371, -0.07093463093042374, 0....</td>\n",
       "    </tr>\n",
       "  </tbody>\n",
       "</table>\n",
       "</div>"
      ],
      "text/plain": [
       "  mark                                              query  \\\n",
       "0    +  %D0%BA%D0%B0%D0%BA%20%D0%BF%D1%80%D0%B0%D0%B2%...   \n",
       "1    -  %D0%BA%D0%B0%D0%BA%20%D0%BF%D1%80%D0%B0%D0%B2%...   \n",
       "2    -  %D0%BA%D0%B0%D0%BA%20%D0%BF%D1%80%D0%B0%D0%B2%...   \n",
       "3    +  %D0%BA%D0%B0%D0%BA%20%D0%BF%D1%80%D0%B0%D0%B2%...   \n",
       "4    -  %D0%BA%D0%B0%D0%BA%20%D0%BF%D1%80%D0%B0%D0%B2%...   \n",
       "\n",
       "                                                 url  \\\n",
       "0  https://cdn-st.rutubelist.ru/media/e3/71/7c152...   \n",
       "1  https://cdn-st.rutubelist.ru/media/0c/07/b0ae9...   \n",
       "2  https://cdn-st.rutubelist.ru/media/bc/6e/fd377...   \n",
       "3  https://cdn-st.rutubelist.ru/media/e3/71/7c152...   \n",
       "4  https://cdn-st.rutubelist.ru/media/bb/30/69e3c...   \n",
       "\n",
       "                                    q_enc  \\\n",
       "0  как правильно писать разлив или розлив   \n",
       "1  как правильно писать разлив или розлив   \n",
       "2  как правильно писать разлив или розлив   \n",
       "3  как правильно писать разлив или розлив   \n",
       "4  как правильно писать разлив или розлив   \n",
       "\n",
       "                                            clip_enc  \n",
       "0  [-0.0413382388651371, -0.07093463093042374, 0....  \n",
       "1  [-0.0413382388651371, -0.07093463093042374, 0....  \n",
       "2  [-0.0413382388651371, -0.07093463093042374, 0....  \n",
       "3  [-0.0413382388651371, -0.07093463093042374, 0....  \n",
       "4  [-0.0413382388651371, -0.07093463093042374, 0....  "
      ]
     },
     "execution_count": 49,
     "metadata": {},
     "output_type": "execute_result"
    }
   ],
   "source": [
    "%%time\n",
    "df['clip_enc'] = df['q_enc'].map(lambda x:text2vec(x.replace(\"#\",\"\")))\n",
    "df.head()"
   ]
  },
  {
   "cell_type": "code",
   "execution_count": 50,
   "metadata": {},
   "outputs": [
    {
     "name": "stdout",
     "output_type": "stream",
     "text": [
      "CPU times: user 394 ms, sys: 7.88 ms, total: 402 ms\n",
      "Wall time: 5.49 s\n"
     ]
    },
    {
     "data": {
      "text/html": [
       "<div>\n",
       "<style scoped>\n",
       "    .dataframe tbody tr th:only-of-type {\n",
       "        vertical-align: middle;\n",
       "    }\n",
       "\n",
       "    .dataframe tbody tr th {\n",
       "        vertical-align: top;\n",
       "    }\n",
       "\n",
       "    .dataframe thead th {\n",
       "        text-align: right;\n",
       "    }\n",
       "</style>\n",
       "<table border=\"1\" class=\"dataframe\">\n",
       "  <thead>\n",
       "    <tr style=\"text-align: right;\">\n",
       "      <th></th>\n",
       "      <th>mark</th>\n",
       "      <th>query</th>\n",
       "      <th>url</th>\n",
       "      <th>q_enc</th>\n",
       "      <th>clip_enc</th>\n",
       "      <th>doc_enc</th>\n",
       "    </tr>\n",
       "  </thead>\n",
       "  <tbody>\n",
       "    <tr>\n",
       "      <th>0</th>\n",
       "      <td>+</td>\n",
       "      <td>%D0%BA%D0%B0%D0%BA%20%D0%BF%D1%80%D0%B0%D0%B2%...</td>\n",
       "      <td>https://cdn-st.rutubelist.ru/media/e3/71/7c152...</td>\n",
       "      <td>как правильно писать разлив или розлив</td>\n",
       "      <td>[-0.0413382388651371, -0.07093463093042374, 0....</td>\n",
       "      <td>{'embedding': [-0.006448028143495321, 0.020241...</td>\n",
       "    </tr>\n",
       "    <tr>\n",
       "      <th>1</th>\n",
       "      <td>-</td>\n",
       "      <td>%D0%BA%D0%B0%D0%BA%20%D0%BF%D1%80%D0%B0%D0%B2%...</td>\n",
       "      <td>https://cdn-st.rutubelist.ru/media/0c/07/b0ae9...</td>\n",
       "      <td>как правильно писать разлив или розлив</td>\n",
       "      <td>[-0.0413382388651371, -0.07093463093042374, 0....</td>\n",
       "      <td>{'embedding': [-0.006448028143495321, 0.020241...</td>\n",
       "    </tr>\n",
       "    <tr>\n",
       "      <th>2</th>\n",
       "      <td>-</td>\n",
       "      <td>%D0%BA%D0%B0%D0%BA%20%D0%BF%D1%80%D0%B0%D0%B2%...</td>\n",
       "      <td>https://cdn-st.rutubelist.ru/media/bc/6e/fd377...</td>\n",
       "      <td>как правильно писать разлив или розлив</td>\n",
       "      <td>[-0.0413382388651371, -0.07093463093042374, 0....</td>\n",
       "      <td>{'embedding': [-0.006448028143495321, 0.020241...</td>\n",
       "    </tr>\n",
       "    <tr>\n",
       "      <th>3</th>\n",
       "      <td>+</td>\n",
       "      <td>%D0%BA%D0%B0%D0%BA%20%D0%BF%D1%80%D0%B0%D0%B2%...</td>\n",
       "      <td>https://cdn-st.rutubelist.ru/media/e3/71/7c152...</td>\n",
       "      <td>как правильно писать разлив или розлив</td>\n",
       "      <td>[-0.0413382388651371, -0.07093463093042374, 0....</td>\n",
       "      <td>{'embedding': [-0.006448028143495321, 0.020241...</td>\n",
       "    </tr>\n",
       "    <tr>\n",
       "      <th>4</th>\n",
       "      <td>-</td>\n",
       "      <td>%D0%BA%D0%B0%D0%BA%20%D0%BF%D1%80%D0%B0%D0%B2%...</td>\n",
       "      <td>https://cdn-st.rutubelist.ru/media/bb/30/69e3c...</td>\n",
       "      <td>как правильно писать разлив или розлив</td>\n",
       "      <td>[-0.0413382388651371, -0.07093463093042374, 0....</td>\n",
       "      <td>{'embedding': [-0.006448028143495321, 0.020241...</td>\n",
       "    </tr>\n",
       "  </tbody>\n",
       "</table>\n",
       "</div>"
      ],
      "text/plain": [
       "  mark                                              query  \\\n",
       "0    +  %D0%BA%D0%B0%D0%BA%20%D0%BF%D1%80%D0%B0%D0%B2%...   \n",
       "1    -  %D0%BA%D0%B0%D0%BA%20%D0%BF%D1%80%D0%B0%D0%B2%...   \n",
       "2    -  %D0%BA%D0%B0%D0%BA%20%D0%BF%D1%80%D0%B0%D0%B2%...   \n",
       "3    +  %D0%BA%D0%B0%D0%BA%20%D0%BF%D1%80%D0%B0%D0%B2%...   \n",
       "4    -  %D0%BA%D0%B0%D0%BA%20%D0%BF%D1%80%D0%B0%D0%B2%...   \n",
       "\n",
       "                                                 url  \\\n",
       "0  https://cdn-st.rutubelist.ru/media/e3/71/7c152...   \n",
       "1  https://cdn-st.rutubelist.ru/media/0c/07/b0ae9...   \n",
       "2  https://cdn-st.rutubelist.ru/media/bc/6e/fd377...   \n",
       "3  https://cdn-st.rutubelist.ru/media/e3/71/7c152...   \n",
       "4  https://cdn-st.rutubelist.ru/media/bb/30/69e3c...   \n",
       "\n",
       "                                    q_enc  \\\n",
       "0  как правильно писать разлив или розлив   \n",
       "1  как правильно писать разлив или розлив   \n",
       "2  как правильно писать разлив или розлив   \n",
       "3  как правильно писать разлив или розлив   \n",
       "4  как правильно писать разлив или розлив   \n",
       "\n",
       "                                            clip_enc  \\\n",
       "0  [-0.0413382388651371, -0.07093463093042374, 0....   \n",
       "1  [-0.0413382388651371, -0.07093463093042374, 0....   \n",
       "2  [-0.0413382388651371, -0.07093463093042374, 0....   \n",
       "3  [-0.0413382388651371, -0.07093463093042374, 0....   \n",
       "4  [-0.0413382388651371, -0.07093463093042374, 0....   \n",
       "\n",
       "                                             doc_enc  \n",
       "0  {'embedding': [-0.006448028143495321, 0.020241...  \n",
       "1  {'embedding': [-0.006448028143495321, 0.020241...  \n",
       "2  {'embedding': [-0.006448028143495321, 0.020241...  \n",
       "3  {'embedding': [-0.006448028143495321, 0.020241...  \n",
       "4  {'embedding': [-0.006448028143495321, 0.020241...  "
      ]
     },
     "execution_count": 50,
     "metadata": {},
     "output_type": "execute_result"
    }
   ],
   "source": [
    "%%time\n",
    "df['doc_enc'] = df['q_enc'].map(lambda x:doc2vec(x.replace(\"#\",\"\")))\n",
    "df.head()"
   ]
  },
  {
   "cell_type": "code",
   "execution_count": 7,
   "metadata": {},
   "outputs": [
    {
     "data": {
      "text/plain": [
       "'как правильно писать разлив или розлив'"
      ]
     },
     "execution_count": 7,
     "metadata": {},
     "output_type": "execute_result"
    }
   ],
   "source": [
    "df['q_enc'][0]"
   ]
  },
  {
   "cell_type": "code",
   "execution_count": 51,
   "metadata": {},
   "outputs": [
    {
     "name": "stdout",
     "output_type": "stream",
     "text": [
      "10421\n"
     ]
    }
   ],
   "source": [
    "import pickle\n",
    "\n",
    "with open(\"dict_store_new.pkl\",\"rb\") as fl:\n",
    "    indexedVideos = pickle.load(fl)\n",
    "\n",
    "print(len(indexedVideos))"
   ]
  },
  {
   "cell_type": "code",
   "execution_count": 52,
   "metadata": {},
   "outputs": [
    {
     "data": {
      "text/plain": [
       "2.60525"
      ]
     },
     "execution_count": 52,
     "metadata": {},
     "output_type": "execute_result"
    }
   ],
   "source": [
    "len(indexedVideos)/400000 * 100"
   ]
  },
  {
   "cell_type": "code",
   "execution_count": 9,
   "metadata": {},
   "outputs": [],
   "source": [
    "def preprocessVideoForQuery(url,query):\n",
    "    # 1) Find url\n",
    "    iVideo = None\n",
    "    for o in indexedVideos:\n",
    "        if o['url']!=url:continue\n",
    "        iVideo = o\n",
    "        break\n",
    "    if iVideo is None:\n",
    "        print(url,\"has not indexed yet\")\n",
    "        return\n",
    "    # 2) Preprocess query\n",
    "    clip_emb = text2vec(query.replace(\"#\",\"\"))\n",
    "    doc_enc = doc2vec(query)\n",
    "    doc_emb = doc_enc['embedding']\n",
    "    doc_lemmed = set(doc_enc['lemmed'] if 'lemmed' in doc_enc else [])\n",
    "    doc_words = set(query.replace(\",\",\"\").lower().split(\" \"))\n",
    "    # 3) Feature extracting\n",
    "    features = []\n",
    "    clip_innerprod = iVideo['clip_embeddings'].dot(clip_emb)\n",
    "    features.append(clip_innerprod.min())\n",
    "    features.append(clip_innerprod.mean())\n",
    "    features.append(clip_innerprod.max())\n",
    "    features.append(clip_innerprod.std())\n",
    "    doc_innerprod = iVideo['description_embedding'].dot(doc_emb)\n",
    "    features.append(doc_innerprod)\n",
    "    doc_innerprod2 = iVideo['transcription_embedding'].dot(doc_emb)\n",
    "    features.append(doc_innerprod2)\n",
    "    features.append(max(features))\n",
    "    # 3.2) Words calculating\n",
    "    description_words = set(iVideo['description'].lower().split(\" \"))\n",
    "    description_words_comp = len(description_words & doc_words) / max(len(doc_words),1)\n",
    "    features.append(description_words_comp)\n",
    "    transcription_words = set(iVideo['transcription'].split(\" \"))\n",
    "    transcription_words_comp = len(transcription_words & doc_words) / max(len(doc_words),1)\n",
    "    features.append(transcription_words_comp)\n",
    "    transcription_words2 = set(iVideo['transcription_lemmed'])\n",
    "    transcription_words_comp2 = len(transcription_words2 & doc_lemmed) / max(len(doc_lemmed),1)\n",
    "    features.append(transcription_words_comp2)\n",
    "    features.append(max(features))\n",
    "    return features"
   ]
  },
  {
   "cell_type": "code",
   "execution_count": 10,
   "metadata": {},
   "outputs": [
    {
     "name": "stdout",
     "output_type": "stream",
     "text": [
      "CPU times: user 3.44 ms, sys: 277 µs, total: 3.72 ms\n",
      "Wall time: 2.61 ms\n"
     ]
    },
    {
     "data": {
      "text/plain": [
       "[0.2172265966395708,\n",
       " 0.29435148639561737,\n",
       " 0.3811079639044104,\n",
       " 0.054979991143736036,\n",
       " 0.5510368442600055,\n",
       " 0.6062659757908622,\n",
       " 0.6062659757908622,\n",
       " 0.2,\n",
       " 0.8,\n",
       " 0.8,\n",
       " 0.8]"
      ]
     },
     "execution_count": 10,
     "metadata": {},
     "output_type": "execute_result"
    }
   ],
   "source": [
    "%%time\n",
    "preprocessVideoForQuery('https://cdn-st.rutubelist.ru/media/ee/80/29098d1e4b93ad7f025cbe1b7fe7/fhd.mp4',\n",
    "                        'как резать стекло под водой')"
   ]
  },
  {
   "cell_type": "code",
   "execution_count": 53,
   "metadata": {},
   "outputs": [
    {
     "name": "stdout",
     "output_type": "stream",
     "text": [
      "CPU times: user 1.23 s, sys: 14.9 ms, total: 1.25 s\n",
      "Wall time: 1.94 s\n"
     ]
    }
   ],
   "source": [
    "%%time\n",
    "y_goal = []\n",
    "\n",
    "for url,query in zip(df['url'],df['q_enc']):\n",
    "    y_goal.append(preprocessVideoForQuery(url,query))"
   ]
  },
  {
   "cell_type": "code",
   "execution_count": 54,
   "metadata": {},
   "outputs": [
    {
     "data": {
      "text/plain": [
       "2611"
      ]
     },
     "execution_count": 54,
     "metadata": {},
     "output_type": "execute_result"
    }
   ],
   "source": [
    "len(y_goal)"
   ]
  },
  {
   "cell_type": "code",
   "execution_count": 55,
   "metadata": {},
   "outputs": [
    {
     "data": {
      "text/html": [
       "<div>\n",
       "<style scoped>\n",
       "    .dataframe tbody tr th:only-of-type {\n",
       "        vertical-align: middle;\n",
       "    }\n",
       "\n",
       "    .dataframe tbody tr th {\n",
       "        vertical-align: top;\n",
       "    }\n",
       "\n",
       "    .dataframe thead th {\n",
       "        text-align: right;\n",
       "    }\n",
       "</style>\n",
       "<table border=\"1\" class=\"dataframe\">\n",
       "  <thead>\n",
       "    <tr style=\"text-align: right;\">\n",
       "      <th></th>\n",
       "      <th>mark</th>\n",
       "      <th>query</th>\n",
       "      <th>url</th>\n",
       "      <th>q_enc</th>\n",
       "      <th>clip_enc</th>\n",
       "      <th>doc_enc</th>\n",
       "      <th>sign</th>\n",
       "    </tr>\n",
       "  </thead>\n",
       "  <tbody>\n",
       "    <tr>\n",
       "      <th>0</th>\n",
       "      <td>+</td>\n",
       "      <td>%D0%BA%D0%B0%D0%BA%20%D0%BF%D1%80%D0%B0%D0%B2%...</td>\n",
       "      <td>https://cdn-st.rutubelist.ru/media/e3/71/7c152...</td>\n",
       "      <td>как правильно писать разлив или розлив</td>\n",
       "      <td>[-0.0413382388651371, -0.07093463093042374, 0....</td>\n",
       "      <td>{'embedding': [-0.006448028143495321, 0.020241...</td>\n",
       "      <td>-1</td>\n",
       "    </tr>\n",
       "    <tr>\n",
       "      <th>1</th>\n",
       "      <td>-</td>\n",
       "      <td>%D0%BA%D0%B0%D0%BA%20%D0%BF%D1%80%D0%B0%D0%B2%...</td>\n",
       "      <td>https://cdn-st.rutubelist.ru/media/0c/07/b0ae9...</td>\n",
       "      <td>как правильно писать разлив или розлив</td>\n",
       "      <td>[-0.0413382388651371, -0.07093463093042374, 0....</td>\n",
       "      <td>{'embedding': [-0.006448028143495321, 0.020241...</td>\n",
       "      <td>1</td>\n",
       "    </tr>\n",
       "    <tr>\n",
       "      <th>2</th>\n",
       "      <td>-</td>\n",
       "      <td>%D0%BA%D0%B0%D0%BA%20%D0%BF%D1%80%D0%B0%D0%B2%...</td>\n",
       "      <td>https://cdn-st.rutubelist.ru/media/bc/6e/fd377...</td>\n",
       "      <td>как правильно писать разлив или розлив</td>\n",
       "      <td>[-0.0413382388651371, -0.07093463093042374, 0....</td>\n",
       "      <td>{'embedding': [-0.006448028143495321, 0.020241...</td>\n",
       "      <td>1</td>\n",
       "    </tr>\n",
       "    <tr>\n",
       "      <th>3</th>\n",
       "      <td>+</td>\n",
       "      <td>%D0%BA%D0%B0%D0%BA%20%D0%BF%D1%80%D0%B0%D0%B2%...</td>\n",
       "      <td>https://cdn-st.rutubelist.ru/media/e3/71/7c152...</td>\n",
       "      <td>как правильно писать разлив или розлив</td>\n",
       "      <td>[-0.0413382388651371, -0.07093463093042374, 0....</td>\n",
       "      <td>{'embedding': [-0.006448028143495321, 0.020241...</td>\n",
       "      <td>-1</td>\n",
       "    </tr>\n",
       "    <tr>\n",
       "      <th>4</th>\n",
       "      <td>-</td>\n",
       "      <td>%D0%BA%D0%B0%D0%BA%20%D0%BF%D1%80%D0%B0%D0%B2%...</td>\n",
       "      <td>https://cdn-st.rutubelist.ru/media/bb/30/69e3c...</td>\n",
       "      <td>как правильно писать разлив или розлив</td>\n",
       "      <td>[-0.0413382388651371, -0.07093463093042374, 0....</td>\n",
       "      <td>{'embedding': [-0.006448028143495321, 0.020241...</td>\n",
       "      <td>1</td>\n",
       "    </tr>\n",
       "  </tbody>\n",
       "</table>\n",
       "</div>"
      ],
      "text/plain": [
       "  mark                                              query  \\\n",
       "0    +  %D0%BA%D0%B0%D0%BA%20%D0%BF%D1%80%D0%B0%D0%B2%...   \n",
       "1    -  %D0%BA%D0%B0%D0%BA%20%D0%BF%D1%80%D0%B0%D0%B2%...   \n",
       "2    -  %D0%BA%D0%B0%D0%BA%20%D0%BF%D1%80%D0%B0%D0%B2%...   \n",
       "3    +  %D0%BA%D0%B0%D0%BA%20%D0%BF%D1%80%D0%B0%D0%B2%...   \n",
       "4    -  %D0%BA%D0%B0%D0%BA%20%D0%BF%D1%80%D0%B0%D0%B2%...   \n",
       "\n",
       "                                                 url  \\\n",
       "0  https://cdn-st.rutubelist.ru/media/e3/71/7c152...   \n",
       "1  https://cdn-st.rutubelist.ru/media/0c/07/b0ae9...   \n",
       "2  https://cdn-st.rutubelist.ru/media/bc/6e/fd377...   \n",
       "3  https://cdn-st.rutubelist.ru/media/e3/71/7c152...   \n",
       "4  https://cdn-st.rutubelist.ru/media/bb/30/69e3c...   \n",
       "\n",
       "                                    q_enc  \\\n",
       "0  как правильно писать разлив или розлив   \n",
       "1  как правильно писать разлив или розлив   \n",
       "2  как правильно писать разлив или розлив   \n",
       "3  как правильно писать разлив или розлив   \n",
       "4  как правильно писать разлив или розлив   \n",
       "\n",
       "                                            clip_enc  \\\n",
       "0  [-0.0413382388651371, -0.07093463093042374, 0....   \n",
       "1  [-0.0413382388651371, -0.07093463093042374, 0....   \n",
       "2  [-0.0413382388651371, -0.07093463093042374, 0....   \n",
       "3  [-0.0413382388651371, -0.07093463093042374, 0....   \n",
       "4  [-0.0413382388651371, -0.07093463093042374, 0....   \n",
       "\n",
       "                                             doc_enc  sign  \n",
       "0  {'embedding': [-0.006448028143495321, 0.020241...    -1  \n",
       "1  {'embedding': [-0.006448028143495321, 0.020241...     1  \n",
       "2  {'embedding': [-0.006448028143495321, 0.020241...     1  \n",
       "3  {'embedding': [-0.006448028143495321, 0.020241...    -1  \n",
       "4  {'embedding': [-0.006448028143495321, 0.020241...     1  "
      ]
     },
     "execution_count": 55,
     "metadata": {},
     "output_type": "execute_result"
    }
   ],
   "source": [
    "df['sign'] = df['mark'].map(lambda x:int(x=='-')-int(x=='+'))\n",
    "df.head()"
   ]
  },
  {
   "cell_type": "code",
   "execution_count": 56,
   "metadata": {},
   "outputs": [
    {
     "data": {
      "text/plain": [
       "array([[-0.04133824, -0.07093463,  0.01293664, ...,  0.04036916,\n",
       "         0.02100877, -0.01856034],\n",
       "       [-0.04133824, -0.07093463,  0.01293664, ...,  0.04036916,\n",
       "         0.02100877, -0.01856034],\n",
       "       [-0.04133824, -0.07093463,  0.01293664, ...,  0.04036916,\n",
       "         0.02100877, -0.01856034],\n",
       "       ...,\n",
       "       [-0.01243007,  0.04091292, -0.08990358, ...,  0.03267707,\n",
       "         0.04393494, -0.06909921],\n",
       "       [ 0.01985355,  0.04405173, -0.04446792, ..., -0.02272687,\n",
       "         0.01593379, -0.05146883],\n",
       "       [ 0.01985355,  0.04405173, -0.04446792, ..., -0.02272687,\n",
       "         0.01593379, -0.05146883]])"
      ]
     },
     "execution_count": 56,
     "metadata": {},
     "output_type": "execute_result"
    }
   ],
   "source": [
    "doc_enc_all = np.zeros((len(df),512))\n",
    "\n",
    "for i,enc in enumerate(df['clip_enc']):\n",
    "    doc_enc_all[i] = enc\n",
    "\n",
    "doc_enc_all"
   ]
  },
  {
   "cell_type": "code",
   "execution_count": 84,
   "metadata": {},
   "outputs": [
    {
     "data": {
      "text/plain": [
       "PCA(copy=True, iterated_power='auto', n_components=6, random_state=None,\n",
       "    svd_solver='auto', tol=0.0, whiten=False)"
      ]
     },
     "execution_count": 84,
     "metadata": {},
     "output_type": "execute_result"
    }
   ],
   "source": [
    "from sklearn.decomposition import PCA\n",
    "\n",
    "pca = PCA(n_components=6)\n",
    "pca.fit(doc_enc_all)"
   ]
  },
  {
   "cell_type": "code",
   "execution_count": 17,
   "metadata": {},
   "outputs": [],
   "source": [
    "import torch\n",
    "import torch.nn as nn"
   ]
  },
  {
   "cell_type": "code",
   "execution_count": 85,
   "metadata": {},
   "outputs": [],
   "source": [
    "Tdoc_enc_all = torch.Tensor(pca.transform(doc_enc_all))\n",
    "Ty_goal = torch.Tensor(y_goal)\n",
    "Tsign = torch.Tensor(df['sign'])"
   ]
  },
  {
   "cell_type": "code",
   "execution_count": 86,
   "metadata": {},
   "outputs": [
    {
     "data": {
      "text/plain": [
       "(torch.Size([2611, 6]), torch.Size([2611, 11]), torch.Size([2611]))"
      ]
     },
     "execution_count": 86,
     "metadata": {},
     "output_type": "execute_result"
    }
   ],
   "source": [
    "Tdoc_enc_all.shape,Ty_goal.shape,Tsign.shape"
   ]
  },
  {
   "cell_type": "code",
   "execution_count": 87,
   "metadata": {},
   "outputs": [],
   "source": [
    "model = nn.Sequential(\n",
    "    nn.Linear(Tdoc_enc_all.shape[1],Ty_goal.shape[1]),\n",
    "    nn.Dropout(p=0.2),\n",
    "    nn.Sigmoid() # -> (0,1) important!\n",
    ")\n",
    "\n",
    "opt = torch.optim.Adam(model.parameters(),lr=1e-3,weight_decay=1e-3)"
   ]
  },
  {
   "cell_type": "code",
   "execution_count": 39,
   "metadata": {},
   "outputs": [],
   "source": [
    "def calcAccuracy(weighted_sum,Tsign):\n",
    "    queries = list(set(df['q_enc']))\n",
    "    np_ws = weighted_sum.detach().numpy().sum(axis=1)\n",
    "    np_signs = Tsign.numpy()\n",
    "    all_signs = 0\n",
    "    correct_signs = 0\n",
    "    for q in queries[2:]:\n",
    "        inds = (df['q_enc']==q).to_numpy()\n",
    "        np_ws_q = np_ws[inds]\n",
    "        np_signs_q = np_signs[inds]\n",
    "        stack = np.vstack((np_ws_q,np_signs_q)).T\n",
    "        stack = stack[stack[:, 0].argsort()]\n",
    "        plus_count = (stack[:,1]>0).sum()\n",
    "        minus_count = (stack[:,1]<0).sum()\n",
    "        correct_pluses = sum(stack[:plus_count,1]>0)\n",
    "        correct_minuses = sum(stack[-minus_count:,1]<0)\n",
    "        all_signs += plus_count+minus_count\n",
    "        correct_signs += correct_pluses+correct_minuses\n",
    "        # print(q,correct_pluses+correct_minuses,plus_count+minus_count)\n",
    "    return correct_signs/all_signs\n",
    "\n",
    "#calcAccuracy(weighted_sum,Tsign)"
   ]
  },
  {
   "cell_type": "code",
   "execution_count": 88,
   "metadata": {},
   "outputs": [
    {
     "name": "stdout",
     "output_type": "stream",
     "text": [
      "0 Loss: -12.166735649108887 Acc: 0.6395080707148347\n",
      "2000 Loss: -64.0328140258789 Acc: 0.7056110684089162\n",
      "4000 Loss: -74.89586639404297 Acc: 0.7040737893927748\n",
      "6000 Loss: -84.94691467285156 Acc: 0.7232897770945427\n",
      "8000 Loss: -85.33394622802734 Acc: 0.6963873943120676\n",
      "10000 Loss: -93.42465209960938 Acc: 0.7148347425057648\n"
     ]
    }
   ],
   "source": [
    "history = []\n",
    "\n",
    "for epoch in range(10001):\n",
    "    opt.zero_grad()\n",
    "    m_coefs = model(Tdoc_enc_all)\n",
    "    m_coefs = nn.functional.normalize(m_coefs, p=1)\n",
    "    weighted_sum = m_coefs*Ty_goal\n",
    "    weighted_sum.shape\n",
    "    loss = (weighted_sum.sum(axis=1)*Tsign).sum()\n",
    "    loss.backward()\n",
    "    opt.step()\n",
    "    if(epoch%2000==0):\n",
    "        print(epoch,\"Loss:\",loss.item(),\"Acc:\",calcAccuracy(weighted_sum,Tsign) )\n",
    "    history.append(loss.item())"
   ]
  },
  {
   "cell_type": "code",
   "execution_count": 89,
   "metadata": {},
   "outputs": [
    {
     "data": {
      "text/plain": [
       "[<matplotlib.lines.Line2D at 0x7f99ed803650>]"
      ]
     },
     "execution_count": 89,
     "metadata": {},
     "output_type": "execute_result"
    },
    {
     "data": {
      "image/png": "[encoded data removed]",
      "text/plain": [
       "<Figure size 432x288 with 1 Axes>"
      ]
     },
     "metadata": {
      "needs_background": "light"
     },
     "output_type": "display_data"
    }
   ],
   "source": [
    "import matplotlib.pyplot as plt\n",
    "\n",
    "plt.plot(history)"
   ]
  },
  {
   "cell_type": "code",
   "execution_count": 42,
   "metadata": {},
   "outputs": [],
   "source": [
    "def getCoefsByPrompt(query):\n",
    "    if type(query)==str:\n",
    "        query = text2vec(query)\n",
    "    model.eval()\n",
    "    enc = pca.transform(query.reshape(1,-1))\n",
    "    with torch.no_grad():\n",
    "        enc = torch.Tensor(enc)\n",
    "        coefs = model(enc)\n",
    "        return coefs.numpy()[0]\n",
    "\n",
    "def keyMatching(arr):\n",
    "    features = []\n",
    "    features.append(\"clip_innerprod.min()   \")\n",
    "    features.append(\"clip_innerprod.mean()  \")\n",
    "    features.append(\"clip_innerprod.max()   \")\n",
    "    features.append(\"clip_innerprod.std()   \")\n",
    "    features.append(\"descr_innerprod        \")\n",
    "    features.append(\"trans_innerprod        \")\n",
    "    features.append(\"max(features)          \")\n",
    "    # 3.2) Words calculating\n",
    "    features.append(\"descr_words_comp       \")\n",
    "    features.append(\"trans_words_comp       \")\n",
    "    features.append(\"trans_lemmed_words_comp\")\n",
    "    features.append(\"max(features)          \")\n",
    "    norm = max(arr)\n",
    "    for k,v in zip(features,arr):\n",
    "        print(k,round(v,5),'*'*round(v/norm*50),sep='\\t')"
   ]
  },
  {
   "cell_type": "code",
   "execution_count": 90,
   "metadata": {},
   "outputs": [
    {
     "name": "stdout",
     "output_type": "stream",
     "text": [
      "clip_innerprod.min()   \t0.88502\t********************************************\n",
      "clip_innerprod.mean()  \t0.9993\t**************************************************\n",
      "clip_innerprod.max()   \t0.98552\t*************************************************\n",
      "clip_innerprod.std()   \t0.00707\t\n",
      "descr_innerprod        \t0.00576\t\n",
      "trans_innerprod        \t0.00525\t\n",
      "max(features)          \t0.00614\t\n",
      "descr_words_comp       \t0.02206\t*\n",
      "trans_words_comp       \t0.0\t\n",
      "trans_lemmed_words_comp\t3e-05\t\n",
      "max(features)          \t0.00039\t\n"
     ]
    }
   ],
   "source": [
    "keyMatching(getCoefsByPrompt(\"котики\"))"
   ]
  },
  {
   "cell_type": "code",
   "execution_count": 91,
   "metadata": {},
   "outputs": [
    {
     "name": "stdout",
     "output_type": "stream",
     "text": [
      "clip_innerprod.min()   \t0.0015\t\n",
      "clip_innerprod.mean()  \t0.09208\t*****\n",
      "clip_innerprod.max()   \t0.99885\t**************************************************\n",
      "clip_innerprod.std()   \t0.02188\t*\n",
      "descr_innerprod        \t0.00979\t\n",
      "trans_innerprod        \t0.0035\t\n",
      "max(features)          \t0.08714\t****\n",
      "descr_words_comp       \t0.00654\t\n",
      "trans_words_comp       \t0.81186\t*****************************************\n",
      "trans_lemmed_words_comp\t0.43724\t**********************\n",
      "max(features)          \t0.55529\t****************************\n"
     ]
    }
   ],
   "source": [
    "keyMatching(getCoefsByPrompt(\"геншин импакт\"))"
   ]
  },
  {
   "cell_type": "code",
   "execution_count": 92,
   "metadata": {},
   "outputs": [
    {
     "name": "stdout",
     "output_type": "stream",
     "text": [
      "clip_innerprod.min()   \t0.04261\t***\n",
      "clip_innerprod.mean()  \t0.35413\t*************************\n",
      "clip_innerprod.max()   \t0.72186\t**************************************************\n",
      "clip_innerprod.std()   \t0.66951\t**********************************************\n",
      "descr_innerprod        \t0.00153\t\n",
      "trans_innerprod        \t0.00524\t\n",
      "max(features)          \t0.00549\t\n",
      "descr_words_comp       \t0.51921\t************************************\n",
      "trans_words_comp       \t0.0132\t*\n",
      "trans_lemmed_words_comp\t0.01945\t*\n",
      "max(features)          \t0.09458\t*******\n"
     ]
    }
   ],
   "source": [
    "keyMatching(getCoefsByPrompt(\"как правильно розлив или разлив\"))"
   ]
  },
  {
   "cell_type": "code",
   "execution_count": 46,
   "metadata": {},
   "outputs": [
    {
     "data": {
      "text/plain": [
       "Linear(in_features=5, out_features=11, bias=True)"
      ]
     },
     "execution_count": 46,
     "metadata": {},
     "output_type": "execute_result"
    }
   ],
   "source": [
    "model[0]"
   ]
  },
  {
   "cell_type": "code",
   "execution_count": 260,
   "metadata": {},
   "outputs": [
    {
     "data": {
      "text/plain": [
       "tensor([[-0.3554,  0.1352, -0.2220,  0.1183],\n",
       "        [-0.3554,  0.1352, -0.2220,  0.1183],\n",
       "        [-0.3554,  0.1352, -0.2220,  0.1183],\n",
       "        ...,\n",
       "        [-0.1671, -0.0668,  0.2023,  0.1282],\n",
       "        [-0.1671, -0.0668,  0.2023,  0.1282],\n",
       "        [-0.1671, -0.0668,  0.2023,  0.1282]])"
      ]
     },
     "execution_count": 260,
     "metadata": {},
     "output_type": "execute_result"
    }
   ],
   "source": [
    "Tdoc_enc_all"
   ]
  },
  {
   "cell_type": "code",
   "execution_count": 258,
   "metadata": {},
   "outputs": [
    {
     "data": {
      "text/plain": [
       "((768, 4), (768,))"
      ]
     },
     "execution_count": 258,
     "metadata": {},
     "output_type": "execute_result"
    }
   ],
   "source": [
    "mu = np.mean(doc_enc_all, axis=0)\n",
    "pca_M = pca.components_.T\n",
    "pca_M.shape,mu.shape"
   ]
  },
  {
   "cell_type": "code",
   "execution_count": 259,
   "metadata": {},
   "outputs": [
    {
     "data": {
      "text/plain": [
       "array([[-0.35536303,  0.13516976, -0.2220154 ,  0.11829696],\n",
       "       [-0.35536303,  0.13516976, -0.2220154 ,  0.11829696],\n",
       "       [-0.35536303,  0.13516976, -0.2220154 ,  0.11829696],\n",
       "       ...,\n",
       "       [-0.16711572, -0.06676016,  0.20230792,  0.12821883],\n",
       "       [-0.16711572, -0.06676016,  0.20230792,  0.12821883],\n",
       "       [-0.16711572, -0.06676016,  0.20230792,  0.12821883]])"
      ]
     },
     "execution_count": 259,
     "metadata": {},
     "output_type": "execute_result"
    }
   ],
   "source": [
    "(doc_enc_all-mu).dot(pca_M)"
   ]
  },
  {
   "cell_type": "code",
   "execution_count": 261,
   "metadata": {},
   "outputs": [
    {
     "data": {
      "text/plain": [
       "tensor([[0.0030, 0.0056, 0.0335,  ..., 0.7584, 0.9657, 0.1550],\n",
       "        [0.0030, 0.0056, 0.0335,  ..., 0.7584, 0.9657, 0.1550],\n",
       "        [0.0030, 0.0056, 0.0335,  ..., 0.7584, 0.9657, 0.1550],\n",
       "        ...,\n",
       "        [0.0032, 0.0023, 0.3393,  ..., 0.2133, 0.7533, 0.3901],\n",
       "        [0.0032, 0.0023, 0.3393,  ..., 0.2133, 0.7533, 0.3901],\n",
       "        [0.0032, 0.0023, 0.3393,  ..., 0.2133, 0.7533, 0.3901]])"
      ]
     },
     "execution_count": 261,
     "metadata": {},
     "output_type": "execute_result"
    }
   ],
   "source": [
    "with torch.no_grad():\n",
    "    coefs=model(Tdoc_enc_all)\n",
    "coefs"
   ]
  },
  {
   "cell_type": "code",
   "execution_count": 262,
   "metadata": {},
   "outputs": [
    {
     "data": {
      "text/plain": [
       "tensor([[0.0030, 0.0056, 0.0335,  ..., 0.7584, 0.9657, 0.1550],\n",
       "        [0.0030, 0.0056, 0.0335,  ..., 0.7584, 0.9657, 0.1550],\n",
       "        [0.0030, 0.0056, 0.0335,  ..., 0.7584, 0.9657, 0.1550],\n",
       "        ...,\n",
       "        [0.0032, 0.0023, 0.3393,  ..., 0.2133, 0.7533, 0.3901],\n",
       "        [0.0032, 0.0023, 0.3393,  ..., 0.2133, 0.7533, 0.3901],\n",
       "        [0.0032, 0.0023, 0.3393,  ..., 0.2133, 0.7533, 0.3901]])"
      ]
     },
     "execution_count": 262,
     "metadata": {},
     "output_type": "execute_result"
    }
   ],
   "source": [
    "tmp = torch.Tensor((doc_enc_all-mu).dot(pca_M))\n",
    "\n",
    "with torch.no_grad():\n",
    "    coefs=model(Tdoc_enc_all)\n",
    "coefs"
   ]
  },
  {
   "cell_type": "code",
   "execution_count": 193,
   "metadata": {},
   "outputs": [],
   "source": [
    "model_M = model[0].weight.detach().numpy().T\n",
    "model_bias = model[0].bias.detach().numpy()"
   ]
  },
  {
   "cell_type": "code",
   "execution_count": 93,
   "metadata": {},
   "outputs": [],
   "source": [
    "mu = np.mean(doc_enc_all, axis=0)\n",
    "pca_M = pca.components_.T\n",
    "np.savetxt(\"pca_M_clip.dat\",pca_M)\n",
    "np.savetxt(\"pca_mu_clip.dat\",mu)\n",
    "torch.save(model.state_dict(), 'sorter_model_clip.pt')"
   ]
  },
  {
   "cell_type": "code",
   "execution_count": 28,
   "metadata": {},
   "outputs": [],
   "source": [
    "def getCoefsByPrompt_clip(query):\n",
    "    if type(query)==str:\n",
    "        query = text2vec(query)\n",
    "    model.eval()\n",
    "    enc = (query.reshape(1,-1)-mu).dot(pca_M)\n",
    "    with torch.no_grad():\n",
    "        enc = torch.Tensor(enc)\n",
    "        coefs = model(enc)\n",
    "        return coefs.numpy()"
   ]
  },
  {
   "cell_type": "code",
   "execution_count": 30,
   "metadata": {},
   "outputs": [
    {
     "data": {
      "text/plain": [
       "array([1.24405396, 1.20763108, 1.10266294, 1.24405396, 1.06776868,\n",
       "       1.18527723, 0.97038303, 0.93964607, 0.9045756 , 0.89513507,\n",
       "       1.23140441, 0.98907937, 1.17709172, 1.04463675, 1.49808598,\n",
       "       1.26073918, 1.27131302, 1.10548484, 1.24068639, 1.25376315,\n",
       "       1.28561083, 1.35614811, 1.34535643, 0.96486246, 1.34032974,\n",
       "       1.85757604, 1.03287872, 0.87057146, 0.96235485, 1.0282073 ,\n",
       "       1.71830609, 1.31408132, 1.0107659 , 1.18310263, 0.91822496,\n",
       "       0.87875636, 0.89958756, 1.86244804, 1.48938813, 1.10547872,\n",
       "       1.02521794, 1.08637082, 0.88942351, 1.86748986, 0.92547074,\n",
       "       1.35040871, 1.30121896, 1.22289629, 1.23706996, 1.21732854,\n",
       "       1.07415688, 1.08356039, 1.00803001, 1.45521652, 1.26783567,\n",
       "       1.22077463, 1.88150473, 1.14525004, 1.07966467, 1.21932371,\n",
       "       1.41690006, 1.23035213, 1.22412113, 1.96375809, 0.96159405,\n",
       "       1.09790467, 1.15989738, 1.05417998, 1.04635073, 0.87162323,\n",
       "       1.71523512, 1.09690485, 1.0842694 , 1.21794992, 1.08329759,\n",
       "       1.16467834, 0.99776473, 0.8199018 , 1.35306679, 1.29595694,\n",
       "       1.1658985 , 1.18743432, 1.24383262, 1.21603659, 1.69706102,\n",
       "       1.63994388, 1.15737351, 1.87274106, 1.24459766, 1.93035042,\n",
       "       1.24660845, 1.07670727, 1.26853698, 1.33984512, 1.96714342,\n",
       "       0.82870272, 0.81397908, 1.80993577, 1.96375809, 1.25611061,\n",
       "       1.28468047, 1.59162014, 2.0221587 , 1.25403569, 1.05872167,\n",
       "       0.94891739, 1.29355127, 1.1100448 , 1.12358397, 1.10792067,\n",
       "       1.10877305, 1.36378719, 1.39223054, 1.31778626, 1.12064868,\n",
       "       1.11970492, 1.20746992, 1.0844117 , 1.11182314, 1.09089795,\n",
       "       1.24243796, 1.12348951, 1.09025822, 1.14053359, 0.94350954,\n",
       "       1.22581758, 1.04317434, 1.28826864, 1.1933519 , 1.33773924,\n",
       "       1.33773924, 1.1933519 , 1.12791814, 1.01709843, 1.08427463,\n",
       "       1.86098682, 1.03157908, 1.01412833, 1.53559193, 0.92329005,\n",
       "       1.23018253, 1.08498499, 1.14127677, 1.17386119, 1.36967344,\n",
       "       1.10901855, 1.08056801, 1.06147189, 1.04644051, 1.77557831,\n",
       "       1.13340247, 1.17193801, 1.13821641, 1.71721941, 0.90923401,\n",
       "       1.19851631, 1.6496929 , 1.2759565 , 1.46291876, 1.38501364,\n",
       "       1.39695886, 1.3142281 , 1.29026336, 1.30519877, 1.301153  ,\n",
       "       1.16432425, 1.11090028, 1.11090028, 1.11090028, 1.26928522,\n",
       "       1.22692487, 1.05453154, 1.05015395, 0.93954061, 1.11090028,\n",
       "       1.30161755, 1.11090028, 1.11090028, 0.92639896, 0.86434215,\n",
       "       1.45036293, 1.13382187, 1.24385546, 1.34381842, 1.34381842,\n",
       "       1.16540871, 1.29798664, 1.23699141, 1.30496942, 1.29221381,\n",
       "       1.34860165, 1.86020733, 1.74120345, 0.87813366, 1.13303363,\n",
       "       1.02326896, 0.9898746 , 1.14202425, 0.94906712, 1.02114344,\n",
       "       1.19879858, 0.96267144, 1.10823712, 1.14202425, 1.33756323,\n",
       "       1.14198737, 0.99252626, 0.90294167, 0.83597361, 0.89675536,\n",
       "       0.81721016, 0.90602545, 1.39550993, 0.65307638, 0.7956474 ,\n",
       "       1.0381172 , 1.03910344, 2.1945431 , 0.98107026, 1.40819865,\n",
       "       1.26452072, 1.27666814, 1.21293395, 1.3570467 , 1.27584048,\n",
       "       1.62231422, 1.16663009, 1.2174109 , 1.09187141, 1.19716905,\n",
       "       0.98555467, 1.20977097, 1.14616078, 1.18527723, 1.21974182,\n",
       "       1.02413617, 2.0221242 , 0.94526974, 1.30862582, 0.90472037,\n",
       "       1.00888088, 1.26845318, 1.07977789, 1.15536444, 1.14142258,\n",
       "       1.74070057, 1.00385151, 0.8463455 , 1.18248023, 1.05400347,\n",
       "       1.07027708, 1.06796985, 1.31053501, 1.34040557, 1.20527106,\n",
       "       1.15152377, 1.16044833, 1.32656002, 1.14877789, 1.15816601,\n",
       "       1.91157013, 0.97232494, 1.23579589, 1.1252219 , 1.01758916,\n",
       "       0.98816326, 1.18540013, 1.26349622, 0.91695057, 0.90435684,\n",
       "       1.00034607, 1.34399887, 1.2966198 , 1.34399887, 1.04358778,\n",
       "       1.13872181, 1.1611015 , 1.1262452 , 1.12326062, 1.12028106,\n",
       "       1.12831527, 1.25084646, 1.19778092, 1.19778092, 1.25084646,\n",
       "       1.00370828, 1.05657092, 1.19778092, 1.25084646, 1.14277372,\n",
       "       1.11281148, 1.09010385, 1.14277372, 1.11281148, 1.16763768,\n",
       "       1.07819069, 1.05771016, 1.12407875, 0.99206187, 1.16008528,\n",
       "       0.90677271, 2.07537329, 0.8370715 , 0.94733158, 1.7942474 ,\n",
       "       1.36323429, 1.51968395, 1.37509113, 1.32813571, 1.24667502,\n",
       "       1.56973742, 1.3860718 , 1.41706744, 1.38645133, 1.32189218,\n",
       "       1.09801413, 1.14805729, 0.9978848 , 1.48728205, 1.38407032,\n",
       "       1.03872801, 1.09378307, 1.03331843, 1.16574637, 1.32063312,\n",
       "       1.23036922, 1.19853995, 1.3791119 , 1.45065677, 1.16898416,\n",
       "       1.22776924, 1.06792988, 1.14911456, 1.08410443, 1.1574787 ,\n",
       "       2.11195068, 1.55817769, 1.84168369, 1.41880189, 2.03515057,\n",
       "       1.57054535, 0.92890224, 1.14386581, 1.1239962 , 1.92388474,\n",
       "       1.06970782, 1.1785262 , 1.17500329, 1.23017304, 1.62925497,\n",
       "       1.26122982, 1.31212062, 1.21727543, 1.32368733, 1.28979425,\n",
       "       1.31901186, 1.05448491, 1.07429674, 1.25596057, 1.15266779,\n",
       "       1.10834562, 1.11096068, 1.08156475, 1.04892706, 1.48375425,\n",
       "       1.45901517, 1.18225482, 1.19687556, 1.29834399, 0.93447616,\n",
       "       1.21013336, 1.16974777, 1.84812021, 1.10057384, 1.08954901,\n",
       "       1.03210328, 1.04568715, 1.0820272 , 0.96856721, 0.91404898,\n",
       "       1.00910146, 0.9937634 , 0.9199058 , 1.02783381, 1.22672638,\n",
       "       1.20668181, 1.20137748, 1.07072875, 1.1370079 , 1.14716764,\n",
       "       1.06379902, 1.4389111 , 1.40288414, 1.01126548, 0.99907009,\n",
       "       1.08173123, 1.34784972, 1.40616892, 1.12887932, 1.09449054,\n",
       "       1.04991579, 1.40806901, 1.33730676, 1.13971089, 1.87645442,\n",
       "       1.79398501, 1.69147894, 1.49826664, 1.36238422, 1.21620593,\n",
       "       1.61639915, 1.60503714, 1.61363699, 1.5227209 , 1.57857431,\n",
       "       1.69543452, 1.269049  , 1.18109794, 1.69147894, 1.64337308,\n",
       "       1.87645442, 1.08567394, 1.00238335, 0.89518117, 0.91193113,\n",
       "       1.14386581, 1.27407903, 1.81591618, 1.31695323, 1.19864092,\n",
       "       0.90749185, 1.78024219, 1.28038677, 2.09233454, 1.37097853,\n",
       "       2.07619988, 1.3615789 , 1.95962819, 1.27118662, 1.2760891 ,\n",
       "       1.63770092, 1.36729609, 1.48552377, 1.40453096, 1.31746428,\n",
       "       1.53084364, 1.19154162, 1.14746663, 1.48505948, 1.10014857,\n",
       "       1.08000247, 1.78222173, 1.64726947, 1.72948879, 1.36334677,\n",
       "       1.45115862, 1.29733265, 1.06924706, 1.11838801, 1.41587695,\n",
       "       1.1316465 , 1.09340253, 1.06732526, 0.99708932, 0.99866779,\n",
       "       0.9807611 , 1.34799642, 1.41459753, 1.29686671, 1.15688134,\n",
       "       1.0623759 , 1.29482196, 1.17430464, 1.77228246, 1.28260007,\n",
       "       1.11298033, 1.02814397, 1.10238781, 0.94250701, 0.94915623,\n",
       "       1.08638007, 1.00367101, 0.99575959, 1.14082649, 1.10104696,\n",
       "       1.29074995, 1.27409772, 1.15228318, 1.0890266 , 1.32284778,\n",
       "       1.14927037, 1.59986066, 1.08750855, 1.04363829, 0.94973313,\n",
       "       1.02981475, 1.02981475, 1.18634718, 1.15538448, 1.02981475,\n",
       "       1.15331071, 1.28625379, 1.22191936, 1.17203498, 1.27480166,\n",
       "       1.26767802, 1.29212495, 1.15190023, 1.22893579, 1.1710349 ,\n",
       "       1.25209879, 1.47090318, 1.31397528, 1.23402142, 1.16532103,\n",
       "       1.38759783, 1.36534837, 1.29632131, 1.23710323, 1.13066799,\n",
       "       1.13081829, 1.16489507, 1.14630621, 1.4041103 , 1.4041103 ,\n",
       "       1.54413826, 0.89427544, 1.2682682 , 1.2682682 , 0.68307823,\n",
       "       0.63760895, 0.83098879, 0.74120626, 0.90960764, 1.97448947,\n",
       "       1.44308702, 1.20244976, 0.96996223, 1.45741443, 1.01958977,\n",
       "       0.9492884 , 0.99278328, 0.96711743, 1.00122373, 1.36417562,\n",
       "       1.03103527, 1.17905824, 1.49300651, 1.51019526, 1.35668461,\n",
       "       1.31426379, 1.19648342, 1.40292518, 1.4691795 , 1.44288958,\n",
       "       1.45048518, 1.11093121, 1.20804892, 1.66354279, 1.24514012,\n",
       "       1.39271338, 1.1326196 , 1.6080793 , 1.573917  , 1.53171104,\n",
       "       1.48850543, 1.183538  , 1.3467149 , 1.34312673, 1.24592844,\n",
       "       1.00322102, 1.09261973, 1.24289872, 1.09102662, 1.08314536,\n",
       "       1.19817975, 1.07055375, 1.08932376, 1.12338332, 0.9589664 ,\n",
       "       1.1705441 , 1.20850787, 1.20491359, 1.15202198, 1.56430467,\n",
       "       1.36399611, 1.13534283, 1.07689855, 1.08933142, 1.07113507,\n",
       "       1.058167  , 1.36798396, 1.30540114, 1.26029907, 1.20924494,\n",
       "       1.31124833, 1.33698946, 1.3724867 , 1.20977097, 1.16896499,\n",
       "       1.87645442, 1.10070222, 1.03206192, 1.0924177 , 1.18527723,\n",
       "       1.79398501, 1.13112677, 1.25977501, 1.15987843, 0.92003419,\n",
       "       1.05635613, 0.93964607, 1.20471201, 1.11996866, 0.97353609,\n",
       "       0.93479598, 0.97038303, 1.09985109, 1.0081825 , 1.31451532,\n",
       "       1.29716329, 1.31167499, 1.23550209, 1.16180895, 1.14233501,\n",
       "       1.34673891, 1.55501563, 1.85576792, 1.52676329, 1.40792896,\n",
       "       1.50124394, 1.18836287, 1.81122617, 1.25347769, 1.83049055,\n",
       "       1.28167336, 1.28043166, 1.33612139, 1.47948559, 1.26267849,\n",
       "       1.28699475, 1.23500444, 1.23190838, 1.18972411, 1.17259317,\n",
       "       1.21630549, 1.18469193, 1.16946285, 1.28830976, 1.4461537 ,\n",
       "       1.1518784 , 1.14211282, 1.39047315, 1.17634068, 1.11676828,\n",
       "       1.26245714, 1.21198013, 1.18163299, 1.15683996, 1.1083101 ,\n",
       "       1.1689657 , 1.4311847 , 1.37002911, 1.91841241, 0.88714016,\n",
       "       0.99797411, 0.86499777, 0.89588602, 1.97923738, 1.97923738,\n",
       "       1.97923738, 0.74537481, 1.073329  , 1.22048961, 0.77317098,\n",
       "       2.06745164, 1.22551443, 1.95356914, 1.95356914, 1.95356914,\n",
       "       1.03129445, 1.25156363, 1.04199477, 0.9539696 , 1.08830381,\n",
       "       1.22603502, 1.66823497, 1.66823497, 1.15350069, 0.97067706,\n",
       "       0.84253336, 0.90050722, 1.56584123, 0.92328777, 1.9542721 ,\n",
       "       1.9542721 , 1.9542721 , 0.93496007, 1.09757824, 1.10731957,\n",
       "       0.83973665, 1.32473033, 0.9703687 , 1.03157653, 0.98617561,\n",
       "       1.00351072, 0.97610908, 0.98506741, 1.32473033, 0.99861339,\n",
       "       1.06213008, 0.90794479, 0.93196829, 1.18927727, 1.10505346,\n",
       "       1.1908861 , 1.01284585, 0.94181269, 1.67562691, 1.36305187,\n",
       "       1.53393282, 1.42983069, 1.11664749, 1.94225988, 1.11008276,\n",
       "       0.89390078, 1.14819955, 1.53836232, 1.62074315, 1.7755412 ,\n",
       "       1.39234234, 1.3407769 , 1.27354778, 1.31413943, 1.1663736 ,\n",
       "       1.2397596 , 1.04926065, 1.06438459, 1.10525934, 0.99114714,\n",
       "       0.98832406, 1.35203913, 0.99311465, 0.83173239, 1.04290121,\n",
       "       1.08145801, 1.04072308, 1.01398508, 0.7964091 , 1.36356429,\n",
       "       1.29790038, 1.36356429, 1.30656109, 1.35203913, 1.29790038,\n",
       "       1.08195247, 1.16348959, 1.0861421 , 1.1163371 , 0.99047111,\n",
       "       0.99813319, 0.99133856, 1.30656109, 0.83428455, 1.16348959,\n",
       "       0.76727527, 0.79411653, 1.13684164, 0.98243514, 1.08357362,\n",
       "       0.99531292, 1.16571071, 1.2269934 , 1.20597822, 1.34218259,\n",
       "       1.31499982, 1.86670423, 1.74067386, 1.73233644, 1.38617214,\n",
       "       1.50605831, 1.70594039, 1.23432636, 1.15480132, 1.17127711,\n",
       "       1.1173524 , 1.86670423, 1.70594039, 1.73233644, 1.74067386,\n",
       "       1.50605831, 1.38617214, 1.09691248, 1.05165679, 1.20237387,\n",
       "       1.14657334, 2.02660402, 1.54278682, 1.5005348 , 1.43902638,\n",
       "       1.15767922, 1.5005348 , 1.54278682, 2.02660402, 1.3348825 ,\n",
       "       1.24791713, 1.12384839])"
      ]
     },
     "execution_count": 30,
     "metadata": {},
     "output_type": "execute_result"
    }
   ],
   "source": [
    "np.array(y_goal).dot(getCoefsByPrompt_clip(\"котики\")[0])"
   ]
  },
  {
   "cell_type": "code",
   "execution_count": 206,
   "metadata": {},
   "outputs": [
    {
     "data": {
      "text/plain": [
       "(30, 11)"
      ]
     },
     "execution_count": 206,
     "metadata": {},
     "output_type": "execute_result"
    }
   ],
   "source": [
    "Tdoc_enc_all.shape[1],Ty_goal.shape[1]"
   ]
  },
  {
   "cell_type": "code",
   "execution_count": null,
   "metadata": {},
   "outputs": [],
   "source": []
  }
 ],
 "metadata": {
  "kernelspec": {
   "display_name": "Python 3",
   "language": "python",
   "name": "python3"
  },
  "language_info": {
   "codemirror_mode": {
    "name": "ipython",
    "version": 3
   },
   "file_extension": ".py",
   "mimetype": "text/x-python",
   "name": "python",
   "nbconvert_exporter": "python",
   "pygments_lexer": "ipython3",
   "version": "3.7.6"
  }
 },
 "nbformat": 4,
 "nbformat_minor": 4
}
